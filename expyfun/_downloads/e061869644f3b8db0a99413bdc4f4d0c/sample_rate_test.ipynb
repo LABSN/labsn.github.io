{
  "cells": [
    {
      "cell_type": "code",
      "execution_count": null,
      "metadata": {
        "collapsed": false
      },
      "outputs": [],
      "source": [
        "%matplotlib inline"
      ]
    },
    {
      "cell_type": "markdown",
      "metadata": {},
      "source": [
        "\n# Audio sample rate test\n\nThis example tests the TDT sample rate, which we expect to be ``24414.0625``.\nTo test this:\n\n1. Connect the TDT audio output to the sound card input. This can be on\n   the same machine that the TDT is connected to, or a different one.\n   In most cases you will need a 1/4\" male to 1/8\" male cable running from\n   the TDT headphone monitor to the recording computer's line input.\n2. Start Audacity on the sound-card machine.\n3. Configure the sound-card machine and/or Audacity to record from the sound\n   card input.\n4. Tell Audacity to record.\n5. Run this script. It should take about 40 seconds at 24414 sample rate.\n6. When the script completes, stop the Audacity recording.\n7. Visually inspect the audacity recording for the time of the two sinc peaks.\n   One peak should occur toward the beginning and the other toward the end.\n8. The sound that was played put 1e6 (1,000,000) samples between the two\n   peaks. So you can get the effective sample rate as:\n\n   .. math::\n\n       f_s = \\frac{1000000}{t_{stop} - t_{start}}\n\n   For example, Eric's RM1 (2017/01/10) had a start time of ``19.854330`` sec\n   and an end time of ``60.813690`` sec for a difference of of ``40.95936``,\n   yielding an effective sample rate of ``24414.44`` Hz.\n\nIf the audio output can also be connected simultaneously to other equipment,\ne.g., an EEG system, the output can be split (or left/right outputs used) to\ntest multiple system synchronization at once.\n"
      ]
    },
    {
      "cell_type": "code",
      "execution_count": null,
      "metadata": {
        "collapsed": false
      },
      "outputs": [],
      "source": [
        "# Author: Eric Larson <larson.eric.d@gmail.com>\n#\n# License: BSD (3-clause)\n\nimport numpy as np\n\nfrom expyfun import ExperimentController, building_doc\n\nprint(__doc__)\n\nstim = np.zeros(int(1e6) + 1)\nstim[[0, -1]] = 1.\nwith ExperimentController('FsTest', full_screen=False, noise_db=-np.inf,\n                          participant='s', session='0', output_dir=None,\n                          suppress_resamp=True, check_rms=None,\n                          version='dev') as ec:\n    ec.identify_trial(ec_id='', ttl_id=[0])\n    ec.load_buffer(stim)\n    print('Starting stimulus.')\n    ec.start_stimulus()\n    wait_dur = len(stim) / ec.fs + 1.\n    print('Stimulus started. Please wait %d seconds.' % wait_dur)\n    if not building_doc:\n        ec.wait_secs(wait_dur)\n    ec.stop()\n    print('Stimulus done.')"
      ]
    }
  ],
  "metadata": {
    "kernelspec": {
      "display_name": "Python 3",
      "language": "python",
      "name": "python3"
    },
    "language_info": {
      "codemirror_mode": {
        "name": "ipython",
        "version": 3
      },
      "file_extension": ".py",
      "mimetype": "text/x-python",
      "name": "python",
      "nbconvert_exporter": "python",
      "pygments_lexer": "ipython3",
      "version": "3.10.6"
    }
  },
  "nbformat": 4,
  "nbformat_minor": 0
}