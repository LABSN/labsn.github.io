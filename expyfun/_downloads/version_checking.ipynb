{
  "nbformat_minor": 0, 
  "nbformat": 4, 
  "cells": [
    {
      "execution_count": null, 
      "cell_type": "code", 
      "source": [
        "%matplotlib inline"
      ], 
      "outputs": [], 
      "metadata": {
        "collapsed": false
      }
    }, 
    {
      "source": [
        "\n# Version checking functions\n\n\nThis demonstrates how the version checking functions work.\n\n"
      ], 
      "cell_type": "markdown", 
      "metadata": {}
    }, 
    {
      "execution_count": null, 
      "cell_type": "code", 
      "source": [
        "# Author: Eric Larson <larson.eric.d@gmail.com>\n#\n# License: BSD (3-clause)\n\nimport tempfile\n\nfrom expyfun import download_version, run_subprocess\n\nprint(__doc__)\n\n\n# Let's say we want to fix our experiment to use a specific version of\n# expyfun. First we'd want to install that version (referenced by the\n# commit number) to the proper directory. Here we'll use a temporary\n# directory so we don't break any other code examples, but usually you'd\n# want to do it in the experiment directory:\ntemp_dir = tempfile.mkdtemp()\ndownload_version('c18133c', temp_dir)\n\n# Now we would normally need to restart Python so the next ``import expyfun``\n# call imported the proper version. We'd want to add an ``assert_version``\n# call to the top of our script We can simulate that here just by\n# launching a new Python instance in the ``temp_dir`` and using our assertion\n# function:\n\ncmd = \"\"\"\nfrom expyfun import assert_version\n\nassert_version('c18133c')\n\"\"\"\ntry:\n    run_subprocess(['python', '-c', cmd], cwd=temp_dir)\nexcept Exception as exp:\n    print('Failure: {0}'.format(exp))\nelse:\n    print('Success!')\n\n# Try modifying the commit number to something invalid, and you should\n# see a failure."
      ], 
      "outputs": [], 
      "metadata": {
        "collapsed": false
      }
    }
  ], 
  "metadata": {
    "kernelspec": {
      "display_name": "Python 2", 
      "name": "python2", 
      "language": "python"
    }, 
    "language_info": {
      "mimetype": "text/x-python", 
      "nbconvert_exporter": "python", 
      "name": "python", 
      "file_extension": ".py", 
      "version": "2.7.12", 
      "pygments_lexer": "ipython2", 
      "codemirror_mode": {
        "version": 2, 
        "name": "ipython"
      }
    }
  }
}