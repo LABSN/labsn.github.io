{
  "cells": [
    {
      "cell_type": "markdown",
      "metadata": {},
      "source": [
        "\n# Keypress demo\n\nThis example demonstrates the different keypress-gathering techniques available\nin the ExperimentController class.\n"
      ]
    },
    {
      "cell_type": "code",
      "execution_count": null,
      "metadata": {
        "collapsed": false
      },
      "outputs": [],
      "source": [
        "# Author: Dan McCloy <drmccloy@uw.edu>\n#\n# License: BSD (3-clause)\n\nimport expyfun.analyze as ea\nfrom expyfun import ExperimentController, building_doc\n\nprint(__doc__)\n\n\nisi = 0.5\nwait_dur = 3.0 if not building_doc else 0.0\nmsg_dur = 3.0 if not building_doc else 0.0\n\nwith ExperimentController(\n    \"KeypressDemo\",\n    screen_num=0,\n    window_size=[640, 480],\n    full_screen=False,\n    stim_db=0,\n    noise_db=0,\n    output_dir=None,\n    participant=\"foo\",\n    session=\"001\",\n    version=\"dev\",\n) as ec:\n    ec.wait_secs(isi)\n\n    ###############\n    # screen_prompt\n    pressed = ec.screen_prompt(\n        f\"press any key\\n\\nscreen_prompt(max_wait={wait_dur})\",\n        max_wait=wait_dur,\n        timestamp=True,\n    )\n    ec.write_data_line(\"screen_prompt\", pressed)\n    if pressed[0] is None:\n        message = \"no keys pressed\"\n    else:\n        message = f\"{pressed[0]} pressed after {round(pressed[1], 4)} secs\"\n    ec.screen_prompt(message, msg_dur)\n    ec.wait_secs(isi)\n\n    ##################\n    # wait_for_presses\n    ec.screen_text(f\"press some keys\\n\\nwait_for_presses(max_wait={wait_dur})\")\n    screenshot = ec.screenshot()\n    ec.flip()\n    pressed = ec.wait_for_presses(wait_dur)\n    ec.write_data_line(\"wait_for_presses\", pressed)\n    if not len(pressed):\n        message = \"no keys pressed\"\n    else:\n        message = [\n            f\"{key} pressed after {round(time, 4)} secs\\n\" for key, time in pressed\n        ]\n        message = \"\".join(message)\n    ec.screen_prompt(message, msg_dur)\n    ec.wait_secs(isi)\n\n    ############################################\n    # wait_for_presses, relative to master clock\n    ec.screen_text(\n        f\"press some keys\\n\\nwait_for_presses(max_wait={wait_dur}, relative_to=0.0)\"\n    )\n    ec.flip()\n    pressed = ec.wait_for_presses(wait_dur, relative_to=0.0)\n    ec.write_data_line(\"wait_for_presses relative_to 0.0\", pressed)\n    if not len(pressed):\n        message = \"no keys pressed\"\n    else:\n        message = [f\"{key} pressed at {round(time, 4)} secs\\n\" for key, time in pressed]\n        message = \"\".join(message)\n    ec.screen_prompt(message, msg_dur)\n    ec.wait_secs(isi)\n\n    ##########################################\n    # listen_presses / wait_secs / get_presses\n    ec.screen_text(\n        f\"press some keys\\n\\nlisten_presses()\\nwait_secs({wait_dur})\\nget_presses()\"\n    )\n    ec.flip()\n    ec.listen_presses()\n    ec.wait_secs(wait_dur)\n    pressed = ec.get_presses()  # relative_to=0.0\n    ec.write_data_line(\"listen / wait / get_presses\", pressed)\n    if not len(pressed):\n        message = \"no keys pressed\"\n    else:\n        message = [\n            f\"{key} pressed after {round(time, 4)} secs\\n\" for key, time in pressed\n        ]\n        message = \"\".join(message)\n    ec.screen_prompt(message, msg_dur)\n    ec.wait_secs(isi)\n\n    ####################################################################\n    # listen_presses / wait_secs / get_presses, relative to master clock\n    ec.screen_text(\n        \"press a few keys\\n\\nlisten_presses()\"\n        f\"\\nwait_secs({wait_dur})\\nget_presses(relative_to=0.0)\"\n        \"\"\n    )\n    ec.flip()\n    ec.listen_presses()\n    ec.wait_secs(wait_dur)\n    pressed = ec.get_presses(relative_to=0.0)\n    ec.write_data_line(\"listen / wait / get_presses relative_to 0.0\", pressed)\n    if not len(pressed):\n        message = \"no keys pressed\"\n    else:\n        message = [f\"{key} pressed at {round(time, 4)} secs\\n\" for key, time in pressed]\n        message = \"\".join(message)\n    ec.screen_prompt(message, msg_dur)\n    ec.wait_secs(isi)\n\n    ###########################################\n    # listen_presses / while loop / get_presses\n    disp_time = wait_dur\n    countdown = ec.current_time + disp_time\n    ec.call_on_next_flip(ec.listen_presses)\n    ec.screen_text(\n        f\"press some keys\\n\\nlisten_presses()\\nwhile loop {disp_time}\\nget_presses()\"\n    )\n    ec.flip()\n    while ec.current_time < countdown:\n        cur_time = round(countdown - ec.current_time, 1)\n        if cur_time != disp_time:\n            disp_time = cur_time\n            # redraw text with updated disp_time\n            ec.screen_text(\n                \"press some keys\\n\\nlisten_presses() \"\n                f\"\\nwhile loop {disp_time}\\nget_presses()\"\n            )\n            ec.flip()\n    pressed = ec.get_presses()\n    ec.write_data_line(\"listen / while / get_presses\", pressed)\n    if not len(pressed):\n        message = \"no keys pressed\"\n    else:\n        message = [\n            f\"{key} pressed after {round(time, 4)} secs\\n\" for key, time in pressed\n        ]\n        message = \"\".join(message)\n    ec.screen_prompt(message, msg_dur)\n    ec.wait_secs(isi)\n\n    #####################################################################\n    # listen_presses / while loop / get_presses, relative to master clock\n    disp_time = wait_dur\n    countdown = ec.current_time + disp_time\n    ec.call_on_next_flip(ec.listen_presses)\n    ec.screen_text(\n        \"press some keys\\n\\nlisten_presses()\\nwhile loop \"\n        f\"{disp_time}\\nget_presses(relative_to=0.0)\"\n    )\n    ec.flip()\n    while ec.current_time < countdown:\n        cur_time = round(countdown - ec.current_time, 1)\n        if cur_time != disp_time:\n            disp_time = cur_time\n            # redraw text with updated disp_time\n            ec.screen_text(\n                \"press some keys\\n\\nlisten_presses()\\nwhile \"\n                f\"loop {disp_time}\\nget_presses(relative_to=0.0)\"\n                \"\"\n            )\n            ec.flip()\n    pressed = ec.get_presses(relative_to=0.0)\n    ec.write_data_line(\"listen / while / get_presses relative_to 0.0\", pressed)\n    if not len(pressed):\n        message = \"no keys pressed\"\n    else:\n        message = [f\"{key} pressed at {round(time, 4)} secs\\n\" for key, time in pressed]\n        message = \"\".join(message)\n    ec.screen_prompt(message, msg_dur)\n\nea.plot_screen(screenshot)"
      ]
    }
  ],
  "metadata": {
    "kernelspec": {
      "display_name": "Python 3",
      "language": "python",
      "name": "python3"
    },
    "language_info": {
      "codemirror_mode": {
        "name": "ipython",
        "version": 3
      },
      "file_extension": ".py",
      "mimetype": "text/x-python",
      "name": "python",
      "nbconvert_exporter": "python",
      "pygments_lexer": "ipython3",
      "version": "3.10.12"
    }
  },
  "nbformat": 4,
  "nbformat_minor": 0
}