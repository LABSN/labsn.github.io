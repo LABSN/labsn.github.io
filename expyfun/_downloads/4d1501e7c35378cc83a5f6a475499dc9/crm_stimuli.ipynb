{
  "cells": [
    {
      "cell_type": "code",
      "execution_count": null,
      "metadata": {
        "collapsed": false
      },
      "outputs": [],
      "source": [
        "%matplotlib inline"
      ]
    },
    {
      "cell_type": "markdown",
      "metadata": {},
      "source": [
        "\n# Use the CRM corpus\n\n\nThis shows how to use the CRM corpus functions.\n\n@author: rkmaddox\n\n"
      ]
    },
    {
      "cell_type": "code",
      "execution_count": null,
      "metadata": {
        "collapsed": false
      },
      "outputs": [],
      "source": [
        "from expyfun._utils import _TempDir\nfrom expyfun import ExperimentController, analyze, building_doc\nfrom expyfun.stimuli import (crm_prepare_corpus, crm_sentence, crm_info,\n                             crm_response_menu, add_pad, CRMPreload)\n\nimport numpy as np\n\nprint(__doc__)\n\ncrm_path = _TempDir()\nfs = 40000"
      ]
    },
    {
      "cell_type": "markdown",
      "metadata": {},
      "source": [
        "Prepare the corpus\n------------------\n\nFor simplicity, here we prepare just two talkers at the native 40000 Hz\nsampling rate.\n\n<div class=\"alert alert-info\"><h4>Note</h4><p>For your experiment, you only need to prepare the corpus once per\n          sampling rate, you should probably use the default path, and you\n          should just do all the talkers at once. For the example, we are\n          using fs=40000 and only doing two talkers so that the stimulus\n          preparation is very fast, and a temp directory so that we don't\n          interfere with any other prepared corpuses. Your code will likely\n          look like this line, and not appear in your actual experiment\n          script::\n\n              >>> crm_prepare_corpus(24414)</p></div>\n\n\n"
      ]
    },
    {
      "cell_type": "code",
      "execution_count": null,
      "metadata": {
        "collapsed": false
      },
      "outputs": [],
      "source": [
        "crm_prepare_corpus(fs, path_out=crm_path, overwrite=True,\n                   talker_list=[dict(sex=0, talker_num=0),\n                                dict(sex=1, talker_num=0)])\n\n# print the valid callsigns\nprint('Valid callsigns are {0}'.format(crm_info()['callsign']))\n\n# read a sentence in from the hard drive\nx1 = 0.5 * crm_sentence(fs, 'm', '0', 'c', 'r', '5', path=crm_path)\n\n# preload all the talkers and get a second sentence from memory\ncrm = CRMPreload(fs, path=crm_path)\nx2 = crm.sentence('f', '0', 'ringo', 'green', '6')\n\nx = add_pad([x1, x2], alignment='start')"
      ]
    },
    {
      "cell_type": "markdown",
      "metadata": {},
      "source": [
        "Now we actually run the experiment.\n\n"
      ]
    },
    {
      "cell_type": "code",
      "execution_count": null,
      "metadata": {
        "collapsed": false
      },
      "outputs": [],
      "source": [
        "max_wait = 0.01 if building_doc else 3\nwith ExperimentController(\n        exp_name='CRM corpus example', window_size=(720, 480),\n        full_screen=False, participant='foo', session='foo', version='dev',\n        output_dir=None, stim_fs=40000) as ec:\n    ec.screen_text('Report the color and number spoken by the female '\n                   'talker.', wrap=True)\n    screenshot = ec.screenshot()\n    ec.flip()\n    ec.wait_secs(max_wait)\n\n    ec.load_buffer(x)\n    ec.identify_trial(ec_id='', ttl_id=[])\n    ec.start_stimulus()\n    ec.wait_secs(x.shape[-1] / float(fs))\n\n    resp = crm_response_menu(ec, max_wait=0.01 if building_doc else np.inf)\n    if resp == ('g', '6'):\n        ec.screen_prompt('Correct!', max_wait=max_wait)\n    else:\n        ec.screen_prompt('Incorrect.', max_wait=max_wait)\n    ec.trial_ok()\n\nanalyze.plot_screen(screenshot)"
      ]
    }
  ],
  "metadata": {
    "kernelspec": {
      "display_name": "Python 3",
      "language": "python",
      "name": "python3"
    },
    "language_info": {
      "codemirror_mode": {
        "name": "ipython",
        "version": 3
      },
      "file_extension": ".py",
      "mimetype": "text/x-python",
      "name": "python",
      "nbconvert_exporter": "python",
      "pygments_lexer": "ipython3",
      "version": "3.6.8"
    }
  },
  "nbformat": 4,
  "nbformat_minor": 0
}