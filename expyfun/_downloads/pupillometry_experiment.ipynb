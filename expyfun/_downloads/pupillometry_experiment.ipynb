{
  "nbformat_minor": 0, 
  "nbformat": 4, 
  "cells": [
    {
      "execution_count": null, 
      "cell_type": "code", 
      "source": [
        "%matplotlib inline"
      ], 
      "outputs": [], 
      "metadata": {
        "collapsed": false
      }
    }, 
    {
      "source": [
        "\n# Experiment using eye-tracking pupillometry\n\n\nIntegration with Eyelink functionality makes programming experiments\nusing eye-tracking simpler.\n\n"
      ], 
      "cell_type": "markdown", 
      "metadata": {}
    }, 
    {
      "execution_count": null, 
      "cell_type": "code", 
      "source": [
        "# Author: Eric Larson <larsoner@uw.edu>\n#\n# License: BSD (3-clause)\n\nimport numpy as np\nimport matplotlib.pyplot as plt\n\nfrom expyfun import ExperimentController, EyelinkController\nfrom expyfun.codeblocks import (find_pupil_dynamic_range,\n                                find_pupil_tone_impulse_response)\n\nprint(__doc__)\n\n\nwith ExperimentController('pupilExp', full_screen=True, participant='foo',\n                          session='001', output_dir=None, version='dev') as ec:\n    el = EyelinkController(ec)\n    bgcolor, fcolor, lev, resp = find_pupil_dynamic_range(ec, el)\n    prf, t_srf, e_prf = find_pupil_tone_impulse_response(ec, el, bgcolor,\n                                                         fcolor)\n\nuni_lev = np.unique(lev)\nuni_lev_label = (255 * uni_lev).astype(int)\nuni_lev[uni_lev == 0] = np.sort(uni_lev)[1] / 2.\nr = resp.reshape((len(lev) // len(uni_lev), len(uni_lev)))\nr_span = [r.min(), r.max()]\n# Grayscale responses\nax = plt.subplot(2, 1, 1, xlabel='Screen level', ylabel='Pupil dilation (AU)')\nax.plot([bgcolor, bgcolor], r_span, linestyle='--', color='r')\nax.fill_between(uni_lev, np.min(r, 0), np.max(r, 0), facecolor=(1, 1, 0),\n                edgecolor='none')\nax.semilogx(uni_lev, np.mean(r, 0), color='k')\nax.set_xlim(uni_lev[[0, -1]])\nax.set_ylim(r_span)\nplt.xticks(uni_lev, uni_lev_label)\n\n# PRF\nax = plt.subplot(2, 1, 2, xlabel='Time (s)', ylabel='Pupil response (AU)')\nax.fill_between(t_srf, prf - e_prf, prf + e_prf, facecolor=(1, 1, 0),\n                edgecolor='none')\nax.plot(t_srf, prf, color='k')\nax.set_xlim(t_srf[[0, -1]])\nplt.tight_layout()\nplt.show()"
      ], 
      "outputs": [], 
      "metadata": {
        "collapsed": false
      }
    }
  ], 
  "metadata": {
    "kernelspec": {
      "display_name": "Python 2", 
      "name": "python2", 
      "language": "python"
    }, 
    "language_info": {
      "mimetype": "text/x-python", 
      "nbconvert_exporter": "python", 
      "name": "python", 
      "file_extension": ".py", 
      "version": "2.7.12", 
      "pygments_lexer": "ipython2", 
      "codemirror_mode": {
        "version": 2, 
        "name": "ipython"
      }
    }
  }
}