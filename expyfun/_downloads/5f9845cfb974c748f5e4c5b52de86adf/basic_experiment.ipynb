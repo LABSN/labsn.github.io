{
  "cells": [
    {
      "cell_type": "markdown",
      "metadata": {},
      "source": [
        "\n# Run a very basic experiment\n\nThis example demonstrates an (almost) minimum working example of the\nExperimentController class.\n"
      ]
    },
    {
      "cell_type": "code",
      "execution_count": null,
      "metadata": {
        "collapsed": false
      },
      "outputs": [],
      "source": [
        "# Author: Eric Larson <larson.eric.d@gmail.com>\n#\n# License: BSD (3-clause)\n\nimport numpy as np\n\nfrom expyfun import ExperimentController, analyze, building_doc\nfrom expyfun.visual import FixationDot\n\nprint(__doc__)\n\n# set configuration\nfs = 24414.  # default for ExperimentController\ndur = 1.0\ntone = np.sin(2 * np.pi * 1000 * np.arange(int(fs * dur)) / float(fs))\ntone *= 0.01 * np.sqrt(2)  # Set RMS to 0.01\nmax_wait = 1. if not building_doc else 0.\n\nwith ExperimentController('testExp', participant='foo', session='001',\n                          output_dir=None, version='dev') as ec:\n    ec.screen_prompt('Press a button when you hear the tone',\n                     max_wait=max_wait)\n\n    dot = FixationDot(ec)\n    ec.load_buffer(tone)\n    dot.draw()\n    screenshot = ec.screenshot()  # only because we want to show it in the docs\n\n    ec.identify_trial(ec_id='tone', ttl_id=[0, 0])\n    ec.start_stimulus()\n    presses = ec.wait_for_presses(dur if not building_doc else 0.)\n    ec.trial_ok()\n    print('Presses:\\n{}'.format(presses))\n\nanalyze.plot_screen(screenshot)"
      ]
    }
  ],
  "metadata": {
    "kernelspec": {
      "display_name": "Python 3",
      "language": "python",
      "name": "python3"
    },
    "language_info": {
      "codemirror_mode": {
        "name": "ipython",
        "version": 3
      },
      "file_extension": ".py",
      "mimetype": "text/x-python",
      "name": "python",
      "nbconvert_exporter": "python",
      "pygments_lexer": "ipython3",
      "version": "3.10.6"
    }
  },
  "nbformat": 4,
  "nbformat_minor": 0
}