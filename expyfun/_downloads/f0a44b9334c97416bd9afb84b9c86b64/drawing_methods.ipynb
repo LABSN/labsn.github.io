{
  "cells": [
    {
      "cell_type": "markdown",
      "metadata": {},
      "source": [
        "\n# Experiment drawing methods\n\nexpyfun provides multiple methods for drawing simple screen objects.\n"
      ]
    },
    {
      "cell_type": "code",
      "execution_count": null,
      "metadata": {
        "collapsed": false
      },
      "outputs": [],
      "source": [
        "# Author: Eric Larson <larsoner@uw.edu>\n#\n# License: BSD (3-clause)\n\nimport numpy as np\n\nfrom expyfun import visual, ExperimentController\nimport expyfun.analyze as ea\n\nprint(__doc__)\n\n\nwith ExperimentController('test', session='1', participant='2',\n                          full_screen=False, window_size=[600, 600],\n                          output_dir=None, version='dev') as ec:\n    ec.screen_text('hello')\n\n    # make an image with  alpha the x-dimension (columns), RGB upward\n    img_buffer = np.zeros((120, 100, 4))\n    img_buffer[:, :50, 3] = 1.0\n    img_buffer[:, 50:, 3] = 0.5\n    img_buffer[0] = 1\n    for ii in range(3):\n        img_buffer[ii * 40:(ii + 1) * 40, :, ii] = 1.0\n    img = visual.RawImage(ec, img_buffer, scale=2.)\n\n    # make a line, rectangle, diamond, and circle\n    line = visual.Line(ec, [[-2, 2, 2, -2], [-2, 2, -2, -2]], units='deg',\n                       line_color='w', line_width=2.0)\n    rect = visual.Rectangle(ec, [0, 0, 2, 2], units='deg', fill_color='y')\n    diamond = visual.Diamond(ec, [0, 0, 4, 4], units='deg', fill_color=None,\n                             line_color='gray', line_width=2.0)\n    circle = visual.Circle(ec, 1, units='deg', line_color='w', fill_color='k',\n                           line_width=2.0)\n\n    # do the drawing, then flip\n    for obj in [img, line, rect, diamond, circle]:\n        obj.draw()\n\n    screenshot = ec.screenshot()  # must be called *before* the flip\n    ec.flip()\n    ec.wait_for_presses(0.5)\n\nea.plot_screen(screenshot)"
      ]
    }
  ],
  "metadata": {
    "kernelspec": {
      "display_name": "Python 3",
      "language": "python",
      "name": "python3"
    },
    "language_info": {
      "codemirror_mode": {
        "name": "ipython",
        "version": 3
      },
      "file_extension": ".py",
      "mimetype": "text/x-python",
      "name": "python",
      "nbconvert_exporter": "python",
      "pygments_lexer": "ipython3",
      "version": "3.10.6"
    }
  },
  "nbformat": 4,
  "nbformat_minor": 0
}