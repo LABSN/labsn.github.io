{
  "cells": [
    {
      "cell_type": "code",
      "execution_count": null,
      "metadata": {
        "collapsed": false
      },
      "outputs": [],
      "source": [
        "%matplotlib inline"
      ]
    },
    {
      "cell_type": "markdown",
      "metadata": {},
      "source": [
        "\n# A-V sync test\n\n\nThis example tests synchronization between the screen and the audio playback.\n\n<div class=\"alert alert-info\"><h4>Note</h4><p>On Linux (w/NVIDIA), XFCE has been observed to give consistent\n          timings, whereas Compiz WMs did not (doubled timings).</p></div>\n"
      ]
    },
    {
      "cell_type": "code",
      "execution_count": null,
      "metadata": {
        "collapsed": false
      },
      "outputs": [],
      "source": [
        "# Author: Dan McCloy <drmccloy@uw.edu>\n#\n# License: BSD (3-clause)\n\nimport numpy as np\n\nfrom expyfun import ExperimentController, building_doc\nfrom expyfun.visual import Circle\nimport expyfun.analyze as ea\n\nprint(__doc__)\n\n\n# Fullscreen MUST be used to guarantee flip accuracy!\nn_channels = 2\nclick_idx = [0]\nwith ExperimentController('SyncTest', full_screen=True, noise_db=-np.inf,\n                          participant='s', session='0', output_dir=None,\n                          suppress_resamp=True, check_rms=None,\n                          n_channels=n_channels, version='dev') as ec:\n    click = np.r_[0.1, np.zeros(99)]  # RMS = 0.01\n    data = np.zeros((n_channels, len(click)))\n    data[click_idx] = click\n    ec.load_buffer(data)\n    pressed = None\n    screenshot = None\n    # Make a circle so that the photodiode can be centered on the screen\n    circle = Circle(ec, 1, units='deg', fill_color='k', line_color='w')\n    while pressed != '8':  # enable a clean quit if required\n        ec.set_background_color('white')\n        t1 = ec.start_stimulus(start_of_trial=False)  # skip checks\n        ec.set_background_color('black')\n        t2 = ec.flip()\n        diff = round(1000 * (t2 - t1), 2)\n        ec.screen_text('IFI (ms): {}'.format(diff), wrap=True)\n        circle.draw()\n        screenshot = ec.screenshot() if screenshot is None else screenshot\n        ec.flip()\n        ec.stamp_triggers([2, 4, 8])\n        ec.refocus()\n        pressed = ec.wait_one_press(0.5)[0] if not building_doc else '8'\n        ec.stop()\n\nea.plot_screen(screenshot)"
      ]
    }
  ],
  "metadata": {
    "kernelspec": {
      "display_name": "Python 3",
      "language": "python",
      "name": "python3"
    },
    "language_info": {
      "codemirror_mode": {
        "name": "ipython",
        "version": 3
      },
      "file_extension": ".py",
      "mimetype": "text/x-python",
      "name": "python",
      "nbconvert_exporter": "python",
      "pygments_lexer": "ipython3",
      "version": "3.7.6"
    }
  },
  "nbformat": 4,
  "nbformat_minor": 0
}