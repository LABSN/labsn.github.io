{
  "cells": [
    {
      "cell_type": "markdown",
      "metadata": {},
      "source": [
        "\n# A-V sync test\n\nThis example tests synchronization between the screen and the auditory/visual\nplayback. If a given machine (experimenta or development) is configured\ncorrectly:\n\n1. The inter-flip interval should be ``1 / refresh_rate``, i.e., ~16 ms for\n   a 60 Hz display.\n2. The red rectangle should correspond to a typical credit card size\n   (~3 3/8\" x 2 1/8\").\n\nIf you test using an oscilloscope, which is required for actual subject\npresentation:\n\n1. There should be no jitter between the trigger and auditory or visual\n   display when hooking the auditory output and photodiode to an oscilloscope.\n2. The auditory and visual onset should be aligned (no fixed delay between\n   them) when viewed with an oscilloscope.\n\nA fixed trigger-to-AV delay can in principle be adjusted afterward via analysis\nchanges, and can be assessed using this script and an oscilloscope.\n\n<div class=\"alert alert-danger\"><h4>Warning</h4><p>Fullscreen must be used to guarantee flip accuracy! Also, ensure that if\n     you are using a projector, your computer screen resolution (and\n     ``\"SCREEN_SIZE_PIX\"``) are configured to use the native resolution of the\n     projector, as resolution conversion can lead to visual display jitter.</p></div>\n"
      ]
    },
    {
      "cell_type": "code",
      "execution_count": null,
      "metadata": {
        "collapsed": false
      },
      "outputs": [],
      "source": [
        "# Author: Dan McCloy <drmccloy@uw.edu>\n#\n# License: BSD (3-clause)\n\nimport numpy as np\n\nfrom expyfun import ExperimentController, building_doc\nfrom expyfun.visual import Circle, Rectangle\nimport expyfun.analyze as ea\n\nn_channels = 2\nclick_idx = [0]\nwith ExperimentController('SyncTest', full_screen=True, noise_db=-np.inf,\n                          participant='s', session='0', output_dir=None,\n                          suppress_resamp=True, check_rms=None,\n                          n_channels=n_channels, version='dev') as ec:\n    click = np.r_[0.1, np.zeros(99)]  # RMS = 0.01\n    data = np.zeros((n_channels, len(click)))\n    data[click_idx] = click\n    ec.load_buffer(data)\n    pressed = None\n    screenshot = None\n    # Make a circle so that the photodiode can be centered on the screen\n    circle = Circle(ec, 1, units='deg', fill_color='k', line_color='w')\n    # Make a rectangle that is the standard credit card size\n    rect = Rectangle(ec, [0, 0, 8.56, 5.398], 'cm', None, '#AA3377')\n    while pressed != '8':  # enable a clean quit if required\n        ec.set_background_color('white')\n        t1 = ec.start_stimulus(start_of_trial=False)  # skip checks\n        ec.set_background_color('black')\n        t2 = ec.flip()\n        diff = round(1000 * (t2 - t1), 2)\n        ec.screen_text('IFI (ms): {}'.format(diff), wrap=True)\n        circle.draw()\n        rect.draw()\n        screenshot = ec.screenshot() if screenshot is None else screenshot\n        ec.flip()\n        ec.stamp_triggers([2, 4, 8])\n        ec.refocus()\n        pressed = ec.wait_one_press(0.5)[0] if not building_doc else '8'\n        ec.stop()\n\nea.plot_screen(screenshot)"
      ]
    }
  ],
  "metadata": {
    "kernelspec": {
      "display_name": "Python 3",
      "language": "python",
      "name": "python3"
    },
    "language_info": {
      "codemirror_mode": {
        "name": "ipython",
        "version": 3
      },
      "file_extension": ".py",
      "mimetype": "text/x-python",
      "name": "python",
      "nbconvert_exporter": "python",
      "pygments_lexer": "ipython3",
      "version": "3.10.6"
    }
  },
  "nbformat": 4,
  "nbformat_minor": 0
}