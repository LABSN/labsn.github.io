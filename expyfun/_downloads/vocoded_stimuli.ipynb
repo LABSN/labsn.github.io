{
  "nbformat_minor": 0, 
  "nbformat": 4, 
  "cells": [
    {
      "execution_count": null, 
      "cell_type": "code", 
      "source": [
        "%matplotlib inline"
      ], 
      "outputs": [], 
      "metadata": {
        "collapsed": false
      }
    }, 
    {
      "source": [
        "\n# Generate vocoded stimuli\n\n\nThis shows how to make simple vocoded stimuli.\n\n@author: larsoner\n\n"
      ], 
      "cell_type": "markdown", 
      "metadata": {}
    }, 
    {
      "execution_count": null, 
      "cell_type": "code", 
      "source": [
        "import numpy as np\nimport matplotlib.pyplot as plt\n\nfrom expyfun.stimuli import vocode, play_sound, window_edges, read_wav, rms\nfrom expyfun import fetch_data_file\n\nprint(__doc__)\n\n\ndata, fs = read_wav(fetch_data_file('audio/dream.wav'))\ndata = window_edges(data[0], fs)\nt = np.arange(data.size) / float(fs)\n# noise vocoder\ndata_noise = vocode(data, fs, mode='noise')\ndata_noise = data_noise * 0.01 / rms(data_noise)\n# sinewave vocoder\ndata_tone = vocode(data, fs, mode='tone')\ndata_tone = data_tone * 0.01 / rms(data_tone)\n# poisson vocoder\ndata_click = vocode(data, fs, mode='poisson', rate=400)\ndata_click = data_click * 0.01 / rms(data_click)\n\n# combine all three\ncutoff = data.shape[-1] // 3\ndata_allthree = data_noise.copy()\ndata_allthree[cutoff:2 * cutoff] = data_tone[cutoff:2 * cutoff]\ndata_allthree[2 * cutoff:] = data_click[2 * cutoff:]\nsnd = play_sound(data_allthree, fs, norm=False, wait=False)\n\n# Uncomment this to play the original, too:\n# snd = play_sound(data, fs, norm=False, wait=False)\n\nax1 = plt.subplot(3, 1, 1)\nax1.plot(t, data)\nax1.set_title('Original')\nax1.set_ylabel('Amplitude')\nax2 = plt.subplot(3, 1, 2, sharex=ax1, sharey=ax1)\nax2.plot(t, data_noise)\nax2.set_title('Vocoded')\nax3 = plt.subplot(3, 1, 3, sharex=ax1)\nax2.set_title('Spectrogram')\nax2.set_ylabel('Amplitude')\nax3.specgram(data_noise, Fs=fs)\nax3.set_xlim(t[[0, -1]])\nax3.set_ylim([0, fs / 2.])\nax3.set_ylabel('Frequency (hz)')\nax3.set_xlabel('Time (sec)')\nplt.tight_layout()\nplt.show()"
      ], 
      "outputs": [], 
      "metadata": {
        "collapsed": false
      }
    }
  ], 
  "metadata": {
    "kernelspec": {
      "display_name": "Python 2", 
      "name": "python2", 
      "language": "python"
    }, 
    "language_info": {
      "mimetype": "text/x-python", 
      "nbconvert_exporter": "python", 
      "name": "python", 
      "file_extension": ".py", 
      "version": "2.7.14", 
      "pygments_lexer": "ipython2", 
      "codemirror_mode": {
        "version": 2, 
        "name": "ipython"
      }
    }
  }
}