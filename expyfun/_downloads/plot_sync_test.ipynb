{
  "nbformat_minor": 0, 
  "nbformat": 4, 
  "cells": [
    {
      "execution_count": null, 
      "cell_type": "code", 
      "source": [
        "%matplotlib inline"
      ], 
      "outputs": [], 
      "metadata": {
        "collapsed": false
      }
    }, 
    {
      "source": [
        "\n# A-V sync test\n\n\nThis example tests synchronization between the screen and the audio playback.\n\n.. note: On Linux (w/NVIDIA), XFCE has been observed to give consistent\n         timings, whereas Compiz WMs did not (doubled timings).\n\n"
      ], 
      "cell_type": "markdown", 
      "metadata": {}
    }, 
    {
      "execution_count": null, 
      "cell_type": "code", 
      "source": [
        "# Author: Dan McCloy <drmccloy@uw.edu>\n#\n# License: BSD (3-clause)\n\nimport numpy as np\n\nfrom expyfun import ExperimentController, building_doc\nfrom expyfun.visual import Circle\nimport expyfun.analyze as ea\n\nprint(__doc__)\n\n\n# Fullscreen MUST be used to guarantee flip accuracy!\nwith ExperimentController('SyncTest', full_screen=True, noise_db=-np.inf,\n                          participant='s', session='0', output_dir=None,\n                          suppress_resamp=True, check_rms=None,\n                          version='dev') as ec:\n    ec.load_buffer(np.r_[0.1, np.zeros(99)])  # RMS == 0.01\n    pressed = None\n    screenshot = None\n    # Make a circle so that the photodiode can be centered on the screen\n    circle = Circle(ec, 1, units='deg', fill_color='k', line_color='w')\n    while pressed != '8':  # enable a clean quit if required\n        ec.set_background_color('white')\n        t1 = ec.start_stimulus(start_of_trial=False)  # skip checks\n        ec.set_background_color('black')\n        t2 = ec.flip()\n        diff = round(1000 * (t2 - t1), 2)\n        ec.screen_text('IFI (ms): {}'.format(diff), wrap=True)\n        circle.draw()\n        screenshot = ec.screenshot() if screenshot is None else screenshot\n        ec.flip()\n        ec.stamp_triggers([2, 4, 8])\n        pressed = ec.wait_one_press(0.5)[0] if not building_doc else '8'\n        ec.stop()\n\nea.plot_screen(screenshot)"
      ], 
      "outputs": [], 
      "metadata": {
        "collapsed": false
      }
    }
  ], 
  "metadata": {
    "kernelspec": {
      "display_name": "Python 2", 
      "name": "python2", 
      "language": "python"
    }, 
    "language_info": {
      "mimetype": "text/x-python", 
      "nbconvert_exporter": "python", 
      "name": "python", 
      "file_extension": ".py", 
      "version": "2.7.11", 
      "pygments_lexer": "ipython2", 
      "codemirror_mode": {
        "version": 2, 
        "name": "ipython"
      }
    }
  }
}