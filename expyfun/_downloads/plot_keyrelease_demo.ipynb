{
  "nbformat_minor": 0, 
  "nbformat": 4, 
  "cells": [
    {
      "execution_count": null, 
      "cell_type": "code", 
      "source": [
        "%matplotlib inline"
      ], 
      "outputs": [], 
      "metadata": {
        "collapsed": false
      }
    }, 
    {
      "source": [
        "\n# KeyPressAndRelease demo\n\n\nThis example demonstrates gathering key-releases as well as presses with\nthe ExperimentController class.\n\nPlease note that this currently only works for the keyboard, which has\ninprecise timing.\n\n.. warning:\n\n    It is currently not possible to get key-release events for Cedrus boxes or\n    TDT. Therefore, using get_presses(kind='releases') or\n    get_presses(kind='both') will throw an exception.\n\n\n"
      ], 
      "cell_type": "markdown", 
      "metadata": {}
    }, 
    {
      "execution_count": null, 
      "cell_type": "code", 
      "source": [
        "# Author: Jasper van den Bosch <jasperb@uw.edu>\n#\n# License: BSD (3-clause)\n\nfrom expyfun import ExperimentController, building_doc, analyze as ea\n\nprint(__doc__)\n\nisi = 0.5\nwait_dur = 3.0 if not building_doc else 0.\nmsg_dur = 3.0 if not building_doc else 0.\n\nwith ExperimentController('KeyPressAndReleaseDemo', screen_num=0,\n                          window_size=[1280, 960], full_screen=False,\n                          stim_db=0, noise_db=0, output_dir=None,\n                          participant='foo', session='001',\n                          version='dev') as ec:\n    ec.wait_secs(isi)\n\n    ###########################################\n    # listen_presses / while loop / get_presses(kind='both')\n    instruction = (\"Press and release some keys\\n\\nlisten_presses()\"\n                   \"\\nwhile loop {}\\nget_presses(kind='both')\")\n    disp_time = wait_dur\n    countdown = ec.current_time + disp_time\n    ec.call_on_next_flip(ec.listen_presses)\n    ec.screen_text(instruction.format(disp_time))\n    screenshot = ec.screenshot()\n    ec.flip()\n    while ec.current_time < countdown:\n        cur_time = round(countdown - ec.current_time, 1)\n        if cur_time != disp_time:\n            disp_time = cur_time\n            # redraw text with updated disp_time\n            ec.screen_text(instruction.format(disp_time))\n            ec.flip()\n    events = ec.get_presses(kind='both')\n    ec.write_data_line('listen / while / get_presses', events)\n    if not len(events):\n        message = 'no keys pressed'\n    else:\n        message = ['{} {} after {} secs\\n'\n                   ''.format(k, r, round(t, 4)) for k, t, r in events]\n        message = ''.join(message)\n    ec.screen_prompt(message, msg_dur)\n    ec.wait_secs(isi)\n\nea.plot_screen(screenshot)"
      ], 
      "outputs": [], 
      "metadata": {
        "collapsed": false
      }
    }
  ], 
  "metadata": {
    "kernelspec": {
      "display_name": "Python 2", 
      "name": "python2", 
      "language": "python"
    }, 
    "language_info": {
      "mimetype": "text/x-python", 
      "nbconvert_exporter": "python", 
      "name": "python", 
      "file_extension": ".py", 
      "version": "2.7.12", 
      "pygments_lexer": "ipython2", 
      "codemirror_mode": {
        "version": 2, 
        "name": "ipython"
      }
    }
  }
}