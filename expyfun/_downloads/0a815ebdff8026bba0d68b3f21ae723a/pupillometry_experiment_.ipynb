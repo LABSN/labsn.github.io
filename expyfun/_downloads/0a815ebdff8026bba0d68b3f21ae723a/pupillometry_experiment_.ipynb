{
  "cells": [
    {
      "cell_type": "markdown",
      "metadata": {},
      "source": [
        "\n# Experiment using eye-tracking pupillometry\n\nIntegration with Eyelink functionality makes programming experiments\nusing eye-tracking simpler.\n"
      ]
    },
    {
      "cell_type": "code",
      "execution_count": null,
      "metadata": {
        "collapsed": false
      },
      "outputs": [],
      "source": [
        "# Author: Eric Larson <larsoner@uw.edu>\n#\n# License: BSD (3-clause)\n\nimport matplotlib.pyplot as plt\nimport numpy as np\n\nfrom expyfun import ExperimentController, EyelinkController\nfrom expyfun.codeblocks import (\n    find_pupil_dynamic_range,\n    find_pupil_tone_impulse_response,\n)\n\nprint(__doc__)\n\n\nwith ExperimentController(\n    \"pupilExp\",\n    full_screen=True,\n    participant=\"foo\",\n    session=\"001\",\n    output_dir=None,\n    version=\"dev\",\n) as ec:\n    el = EyelinkController(ec)\n    bgcolor, fcolor, lev, resp = find_pupil_dynamic_range(ec, el)\n    prf, t_srf, e_prf = find_pupil_tone_impulse_response(ec, el, bgcolor, fcolor)\n\nuni_lev = np.unique(lev)\nuni_lev_label = (255 * uni_lev).astype(int)\nuni_lev[uni_lev == 0] = np.sort(uni_lev)[1] / 2.0\nr = resp.reshape((len(lev) // len(uni_lev), len(uni_lev)))\nr_span = [r.min(), r.max()]\n# Grayscale responses\nax = plt.subplot(2, 1, 1, xlabel=\"Screen level\", ylabel=\"Pupil dilation (AU)\")\nax.plot([bgcolor, bgcolor], r_span, linestyle=\"--\", color=\"r\")\nax.fill_between(\n    uni_lev, np.min(r, 0), np.max(r, 0), facecolor=(1, 1, 0), edgecolor=\"none\"\n)\nax.semilogx(uni_lev, np.mean(r, 0), color=\"k\")\nax.set_xlim(uni_lev[[0, -1]])\nax.set_ylim(r_span)\nplt.xticks(uni_lev, uni_lev_label)\n\n# PRF\nax = plt.subplot(2, 1, 2, xlabel=\"Time (s)\", ylabel=\"Pupil response (AU)\")\nax.fill_between(t_srf, prf - e_prf, prf + e_prf, facecolor=(1, 1, 0), edgecolor=\"none\")\nax.plot(t_srf, prf, color=\"k\")\nax.set_xlim(t_srf[[0, -1]])\nplt.tight_layout()\nplt.show()"
      ]
    }
  ],
  "metadata": {
    "kernelspec": {
      "display_name": "Python 3",
      "language": "python",
      "name": "python3"
    },
    "language_info": {
      "codemirror_mode": {
        "name": "ipython",
        "version": 3
      },
      "file_extension": ".py",
      "mimetype": "text/x-python",
      "name": "python",
      "nbconvert_exporter": "python",
      "pygments_lexer": "ipython3",
      "version": "3.10.12"
    }
  },
  "nbformat": 4,
  "nbformat_minor": 0
}