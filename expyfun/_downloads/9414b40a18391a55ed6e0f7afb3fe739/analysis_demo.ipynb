{
  "cells": [
    {
      "cell_type": "code",
      "execution_count": null,
      "metadata": {
        "collapsed": false
      },
      "outputs": [],
      "source": [
        "%matplotlib inline"
      ]
    },
    {
      "cell_type": "markdown",
      "metadata": {},
      "source": [
        "\n# Analysis demo\n\nThis example simulates some 2AFC data and demonstrates the analysis\nfunctions :func:`expyfun.analyze.dprime` and\n:func:`expyfun.analyze.barplot()`.\n"
      ]
    },
    {
      "cell_type": "code",
      "execution_count": null,
      "metadata": {
        "collapsed": false
      },
      "outputs": [],
      "source": [
        "# Author: Dan McCloy <drmccloy@uw.edu>\n#\n# License: BSD (3-clause)\n\nimport numpy as np\nimport pandas as pd\nimport matplotlib.pyplot as plt\n\nimport expyfun.analyze as ea\n\nprint(__doc__)\n\n# simulate some 2AFC data\ntargets = 50\nfoils = 50\na_prob = 0.9\nb_prob = 0.6\nf_prob = 0.2\nsubjs = ['a', 'b', 'c', 'd', 'e']\na_hit = np.random.binomial(targets, a_prob, len(subjs))\nb_hit = np.random.binomial(targets, b_prob, len(subjs))\na_fa = np.random.binomial(foils, f_prob, len(subjs))\nb_fa = np.random.binomial(foils, f_prob, len(subjs))\na_miss = targets - a_hit\nb_miss = targets - b_hit\na_cr = foils - a_fa\nb_cr = foils - b_fa\ndata = pd.DataFrame(dict(a_hit=a_hit, a_miss=a_miss, a_fa=a_fa, a_cr=a_cr,\n                         b_hit=b_hit, b_miss=b_miss, b_fa=b_fa, b_cr=b_cr),\n                    index=subjs)\n# calculate dprimes\na_dprime = ea.dprime(data[['a_hit', 'a_miss', 'a_fa', 'a_cr']])\nb_dprime = ea.dprime(data[['b_hit', 'b_miss', 'b_fa', 'b_cr']])\nresults = pd.DataFrame(dict(ctrl=a_dprime, test=b_dprime))\n# plot\nsubplt, barplt = ea.barplot(results, axis=0, err_bars='sd', lines=True,\n                            brackets=[(0, 1)], bracket_text=[r'$p < 10^{-9}$'])\nsubplt.yaxis.set_label_text('d-prime +/- 1 s.d.')\nsubplt.set_title('Each line represents a different subject')\n\n# significance brackets example\ntrials_per_cond = 100\nconds = ['ctrl', 'test']\ndiffs = ['easy', 'hard']\ncolnames = ['-'.join([x, y]) for x, y in zip(conds * 2,\n            np.tile(diffs, (2, 1)).T.ravel().tolist())]\ncond_prob = [0.9, 0.8]\ndiff_prob = [0.9, 0.7]\ncond_block = np.tile(np.atleast_2d(cond_prob).T, (2, len(subjs))).T\ndiff_block = np.tile(np.atleast_2d(np.repeat(diff_prob, 2)).T, len(subjs)).T\nprobs = cond_block * diff_block\nshape = (len(subjs), len(conds) * len(diffs))\nrawscores_targ = np.random.binomial(trials_per_cond, probs, shape)\nrawscores_foil = np.random.binomial(trials_per_cond, probs, shape)\nhmfc = np.c_[rawscores_targ.ravel(),\n             (trials_per_cond - rawscores_targ).ravel(),\n             (trials_per_cond - rawscores_foil).ravel(),\n             rawscores_foil.ravel()]\ndprimes = ea.dprime(hmfc).reshape(shape)\nresults = pd.DataFrame(dprimes, index=subjs, columns=colnames)\nsubplt, barplt = ea.barplot(results, axis=0, err_bars='sd', lines=True,\n                            groups=[(0, 1), (2, 3)], group_names=diffs,\n                            bar_names=conds * 2, bracket_group_lines=True,\n                            brackets=[(0, 1), (2, 3), (0, 2), (1, 3),\n                                      ([0, 1], 3)],  # [2, 3]\n                            bracket_text=['foo', 'bar', 'baz', 'snafu',\n                                          'foobar'])\nsubplt.yaxis.set_label_text('d-prime +/- 1 s.d.')\nsubplt.set_title('Each line represents a different subject')\nplt.show()"
      ]
    }
  ],
  "metadata": {
    "kernelspec": {
      "display_name": "Python 3",
      "language": "python",
      "name": "python3"
    },
    "language_info": {
      "codemirror_mode": {
        "name": "ipython",
        "version": 3
      },
      "file_extension": ".py",
      "mimetype": "text/x-python",
      "name": "python",
      "nbconvert_exporter": "python",
      "pygments_lexer": "ipython3",
      "version": "3.7.9"
    }
  },
  "nbformat": 4,
  "nbformat_minor": 0
}