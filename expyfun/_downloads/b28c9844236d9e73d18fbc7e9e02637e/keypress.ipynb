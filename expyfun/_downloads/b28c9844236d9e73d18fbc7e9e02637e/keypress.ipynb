{
  "cells": [
    {
      "cell_type": "code",
      "execution_count": null,
      "metadata": {
        "collapsed": false
      },
      "outputs": [],
      "source": [
        "%matplotlib inline"
      ]
    },
    {
      "cell_type": "markdown",
      "metadata": {},
      "source": [
        "\n# Keypress demo\n\n\nThis example demonstrates the different keypress-gathering techniques available\nin the ExperimentController class.\n\n"
      ]
    },
    {
      "cell_type": "code",
      "execution_count": null,
      "metadata": {
        "collapsed": false
      },
      "outputs": [],
      "source": [
        "# Author: Dan McCloy <drmccloy@uw.edu>\n#\n# License: BSD (3-clause)\n\nfrom expyfun import ExperimentController, building_doc\nimport expyfun.analyze as ea\n\nprint(__doc__)\n\n\nisi = 0.5\nwait_dur = 3.0 if not building_doc else 0.\nmsg_dur = 3.0 if not building_doc else 0.\n\nwith ExperimentController('KeypressDemo', screen_num=0,\n                          window_size=[640, 480], full_screen=False,\n                          stim_db=0, noise_db=0, output_dir=None,\n                          participant='foo', session='001',\n                          version='dev') as ec:\n    ec.wait_secs(isi)\n\n    ###############\n    # screen_prompt\n    pressed = ec.screen_prompt('press any key\\n\\nscreen_prompt('\n                               'max_wait={})'.format(wait_dur),\n                               max_wait=wait_dur, timestamp=True)\n    ec.write_data_line('screen_prompt', pressed)\n    if pressed[0] is None:\n        message = 'no keys pressed'\n    else:\n        message = '{} pressed after {} secs'.format(pressed[0],\n                                                    round(pressed[1], 4))\n    ec.screen_prompt(message, msg_dur)\n    ec.wait_secs(isi)\n\n    ##################\n    # wait_for_presses\n    ec.screen_text('press some keys\\n\\nwait_for_presses(max_wait={})'\n                   ''.format(wait_dur))\n    screenshot = ec.screenshot()\n    ec.flip()\n    pressed = ec.wait_for_presses(wait_dur)\n    ec.write_data_line('wait_for_presses', pressed)\n    if not len(pressed):\n        message = 'no keys pressed'\n    else:\n        message = ['{} pressed after {} secs\\n'\n                   ''.format(key, round(time, 4)) for key, time in pressed]\n        message = ''.join(message)\n    ec.screen_prompt(message, msg_dur)\n    ec.wait_secs(isi)\n\n    ############################################\n    # wait_for_presses, relative to master clock\n    ec.screen_text('press some keys\\n\\nwait_for_presses(max_wait={}, '\n                   'relative_to=0.0)'.format(wait_dur))\n    ec.flip()\n    pressed = ec.wait_for_presses(wait_dur, relative_to=0.0)\n    ec.write_data_line('wait_for_presses relative_to 0.0', pressed)\n    if not len(pressed):\n        message = 'no keys pressed'\n    else:\n        message = ['{} pressed at {} secs\\n'\n                   ''.format(key, round(time, 4)) for key, time in pressed]\n        message = ''.join(message)\n    ec.screen_prompt(message, msg_dur)\n    ec.wait_secs(isi)\n\n    ##########################################\n    # listen_presses / wait_secs / get_presses\n    ec.screen_text('press some keys\\n\\nlisten_presses()\\nwait_secs({0})'\n                   '\\nget_presses()'.format(wait_dur))\n    ec.flip()\n    ec.listen_presses()\n    ec.wait_secs(wait_dur)\n    pressed = ec.get_presses()  # relative_to=0.0\n    ec.write_data_line('listen / wait / get_presses', pressed)\n    if not len(pressed):\n        message = 'no keys pressed'\n    else:\n        message = ['{} pressed after {} secs\\n'\n                   ''.format(key, round(time, 4)) for key, time in pressed]\n        message = ''.join(message)\n    ec.screen_prompt(message, msg_dur)\n    ec.wait_secs(isi)\n\n    ####################################################################\n    # listen_presses / wait_secs / get_presses, relative to master clock\n    ec.screen_text('press a few keys\\n\\nlisten_presses()'\n                   '\\nwait_secs({0})\\nget_presses(relative_to=0.0)'\n                   ''.format(wait_dur))\n    ec.flip()\n    ec.listen_presses()\n    ec.wait_secs(wait_dur)\n    pressed = ec.get_presses(relative_to=0.0)\n    ec.write_data_line('listen / wait / get_presses relative_to 0.0', pressed)\n    if not len(pressed):\n        message = 'no keys pressed'\n    else:\n        message = ['{} pressed at {} secs\\n'\n                   ''.format(key, round(time, 4)) for key, time in pressed]\n        message = ''.join(message)\n    ec.screen_prompt(message, msg_dur)\n    ec.wait_secs(isi)\n\n    ###########################################\n    # listen_presses / while loop / get_presses\n    disp_time = wait_dur\n    countdown = ec.current_time + disp_time\n    ec.call_on_next_flip(ec.listen_presses)\n    ec.screen_text('press some keys\\n\\nlisten_presses()'\n                   '\\nwhile loop {}\\nget_presses()'.format(disp_time))\n    ec.flip()\n    while ec.current_time < countdown:\n        cur_time = round(countdown - ec.current_time, 1)\n        if cur_time != disp_time:\n            disp_time = cur_time\n            # redraw text with updated disp_time\n            ec.screen_text('press some keys\\n\\nlisten_presses() '\n                           '\\nwhile loop {}\\nget_presses()'.format(disp_time))\n            ec.flip()\n    pressed = ec.get_presses()\n    ec.write_data_line('listen / while / get_presses', pressed)\n    if not len(pressed):\n        message = 'no keys pressed'\n    else:\n        message = ['{} pressed after {} secs\\n'\n                   ''.format(key, round(time, 4)) for key, time in pressed]\n        message = ''.join(message)\n    ec.screen_prompt(message, msg_dur)\n    ec.wait_secs(isi)\n\n    #####################################################################\n    # listen_presses / while loop / get_presses, relative to master clock\n    disp_time = wait_dur\n    countdown = ec.current_time + disp_time\n    ec.call_on_next_flip(ec.listen_presses)\n    ec.screen_text('press some keys\\n\\nlisten_presses()\\nwhile loop '\n                   '{}\\nget_presses(relative_to=0.0)'.format(disp_time))\n    ec.flip()\n    while ec.current_time < countdown:\n        cur_time = round(countdown - ec.current_time, 1)\n        if cur_time != disp_time:\n            disp_time = cur_time\n            # redraw text with updated disp_time\n            ec.screen_text('press some keys\\n\\nlisten_presses()\\nwhile '\n                           'loop {}\\nget_presses(relative_to=0.0)'\n                           ''.format(disp_time))\n            ec.flip()\n    pressed = ec.get_presses(relative_to=0.0)\n    ec.write_data_line('listen / while / get_presses relative_to 0.0', pressed)\n    if not len(pressed):\n        message = 'no keys pressed'\n    else:\n        message = ['{} pressed at {} secs\\n'\n                   ''.format(key, round(time, 4)) for key, time in pressed]\n        message = ''.join(message)\n    ec.screen_prompt(message, msg_dur)\n\nea.plot_screen(screenshot)"
      ]
    }
  ],
  "metadata": {
    "kernelspec": {
      "display_name": "Python 3",
      "language": "python",
      "name": "python3"
    },
    "language_info": {
      "codemirror_mode": {
        "name": "ipython",
        "version": 3
      },
      "file_extension": ".py",
      "mimetype": "text/x-python",
      "name": "python",
      "nbconvert_exporter": "python",
      "pygments_lexer": "ipython3",
      "version": "3.6.8"
    }
  },
  "nbformat": 4,
  "nbformat_minor": 0
}