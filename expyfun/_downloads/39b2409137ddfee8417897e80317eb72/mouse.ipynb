{
  "cells": [
    {
      "cell_type": "code",
      "execution_count": null,
      "metadata": {
        "collapsed": false
      },
      "outputs": [],
      "source": [
        "%matplotlib inline"
      ]
    },
    {
      "cell_type": "markdown",
      "metadata": {},
      "source": [
        "\n# Mouse click demo\n\n\nThis example demonstrates the different mouse click functionality\nin the ExperimentController class.\n"
      ]
    },
    {
      "cell_type": "code",
      "execution_count": null,
      "metadata": {
        "collapsed": false
      },
      "outputs": [],
      "source": [
        "# Author: Ross Maddox <rkmaddox@uw.edu>\n#\n# License: BSD (3-clause)\n\nfrom expyfun import ExperimentController, building_doc\nimport expyfun.analyze as ea\nfrom expyfun.visual import (Circle, Rectangle, Diamond, ConcentricCircles,\n                            FixationDot)\n\nprint(__doc__)\n\n\nwait_dur = 3.0 if not building_doc else 0.\nmsg_dur = 1.5 if not building_doc else 0.\nmax_wait = float('inf') if not building_doc else 0.\n\nwith ExperimentController('MouseDemo', screen_num=0,\n                          window_size=[640, 480], full_screen=False,\n                          stim_db=0, noise_db=0, output_dir=None,\n                          participant='foo', session='001',\n                          version='dev') as ec:\n    ###############\n    # toggle_cursor\n    ec.toggle_cursor(True)\n    ec.screen_prompt('Now you see it.', max_wait=msg_dur, wrap=False)\n\n    ec.toggle_cursor(False)\n    ec.screen_prompt(\"Now you don't (maybe--Windows is buggy)\",\n                     max_wait=msg_dur, wrap=False)\n    ec.toggle_cursor(True)\n\n    ################\n    # wait_one_click\n    ec.screen_text('Press any mouse button.', wrap=False)\n    ec.flip()\n    ec.wait_one_click(max_wait=max_wait)\n\n    ec.toggle_cursor(False)\n    ec.screen_text('Press the left button.', wrap=False)\n    ec.flip()\n    ec.wait_one_click(live_buttons=['left'], visible=True, max_wait=max_wait)\n    ec.wait_secs(0.5)\n    ec.toggle_cursor(True)\n\n    ###########################\n    # listen_clicks, get_clicks\n    ec.screen_text('Press a few buttons in a row.', wrap=False)\n    ec.flip()\n    ec.listen_clicks()\n    ec.wait_secs(wait_dur)\n    clicks = ec.get_clicks()\n    ec.screen_prompt('Your clicks:\\n%s' % str(clicks), max_wait=msg_dur)\n\n    ###########################\n    # get_mouse_position\n    ec.screen_prompt('Move the mouse around...', max_wait=msg_dur, wrap=False)\n    stop_time = ec.current_time + wait_dur\n    while ec.current_time < stop_time:\n        ec.screen_text('%i, %i' % tuple([p for p in\n                                         ec.get_mouse_position()]),\n                       wrap=False)\n        ec.check_force_quit()\n        ec.flip()\n\n    ###########################\n    # wait_for_click_on\n    ec.toggle_cursor(False)\n    ec.wait_secs(1)\n    c = Circle(ec, 150, units='pix')\n    r = Rectangle(ec, (0.5, 0.5, 0.2, 0.2), units='norm', fill_color='r')\n    cc = ConcentricCircles(ec, pos=[0.6, -0.4],\n                           colors=[[0.2, 0.2, 0.2], [0.6, 0.6, 0.6]])\n    d = Diamond(ec, (-0.5, 0.5, 0.4, 0.25), fill_color='b')\n    dot = FixationDot(ec)\n    objects = [c, r, cc, d, dot]\n\n    ec.screen_prompt('Click on some objects...', max_wait=msg_dur, wrap=False)\n    for ti in range(3):\n        for o in objects:\n            o.draw()\n        screenshot = ec.screenshot()\n        ec.flip()\n        click, ind = ec.wait_for_click_on(objects, max_wait=max_wait)\n        if ind is not None:\n            objects[ind].draw()\n            ec.flip()\n            ec.wait_secs(0.2)\n\nea.plot_screen(screenshot)"
      ]
    }
  ],
  "metadata": {
    "kernelspec": {
      "display_name": "Python 3",
      "language": "python",
      "name": "python3"
    },
    "language_info": {
      "codemirror_mode": {
        "name": "ipython",
        "version": 3
      },
      "file_extension": ".py",
      "mimetype": "text/x-python",
      "name": "python",
      "nbconvert_exporter": "python",
      "pygments_lexer": "ipython3",
      "version": "3.7.4"
    }
  },
  "nbformat": 4,
  "nbformat_minor": 0
}