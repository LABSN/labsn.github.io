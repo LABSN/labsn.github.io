{
  "cells": [
    {
      "cell_type": "code",
      "execution_count": null,
      "metadata": {
        "collapsed": false
      },
      "outputs": [],
      "source": [
        "%matplotlib inline"
      ]
    },
    {
      "cell_type": "markdown",
      "metadata": {},
      "source": [
        "\n# Experiment with eye-tracking\n\n\nIntegration with Eyelink functionality makes programming experiments\nusing eye-tracking simpler.\n"
      ]
    },
    {
      "cell_type": "code",
      "execution_count": null,
      "metadata": {
        "collapsed": false
      },
      "outputs": [],
      "source": [
        "# Author: Eric Larson <larsoner@uw.edu>\n#\n# License: BSD (3-clause)\n\nimport numpy as np\n\nfrom expyfun import ExperimentController, EyelinkController, visual\nimport expyfun.analyze as ea\n\nprint(__doc__)\n\n\nwith ExperimentController('testExp', full_screen=True, participant='foo',\n                          session='001', output_dir=None, version='dev') as ec:\n    el = EyelinkController(ec)\n    ec.screen_prompt('Welcome to the experiment!\\n\\nFirst, we will '\n                     'perform a screen calibration.\\n\\nPress a button '\n                     'to continue.')\n    el.calibrate()  # by default this starts recording EyeLink data\n    ec.screen_prompt('Excellent! Now, follow the red circle around the edge '\n                     'of the big white circle.\\n\\nPress a button to '\n                     'continue')\n\n    # make some circles to be drawn\n    radius = 7.5  # degrees\n    targ_rad = 0.2  # degrees\n    theta = np.linspace(np.pi / 2., 2.5 * np.pi, 200)\n    x_pos, y_pos = radius * np.cos(theta), radius * np.sin(theta)\n    big_circ = visual.Circle(ec, radius, (0, 0), units='deg',\n                             fill_color=None, line_color='white',\n                             line_width=3.0)\n    targ_circ = visual.Circle(ec, targ_rad, (x_pos[0], y_pos[0]),\n                              units='deg', fill_color='red')\n    fix_pos = (x_pos[0], y_pos[0])\n\n    # start out by waiting for a 1 sec fixation at the start\n    big_circ.draw()\n    targ_circ.draw()\n    screenshot = ec.screenshot()\n    ec.identify_trial(ec_id='Circle', ttl_id=[0], el_id=[0])\n    ec.start_stimulus()  # automatically stamps to EL\n    if not el.wait_for_fix(fix_pos, 1., max_wait=5., units='deg'):\n        print('Initial fixation failed')\n    for ii, (x, y) in enumerate(zip(x_pos[1:], y_pos[1:])):\n        targ_circ.set_pos((x, y), units='deg')\n        big_circ.draw()\n        targ_circ.draw()\n        ec.flip()\n        if not el.wait_for_fix([x, y], max_wait=5., units='deg'):\n            print('Fixation {0} failed'.format(ii + 1))\n    ec.trial_ok()\n    el.stop()  # stop recording to save the file\n    ec.screen_prompt('All done!', max_wait=1.0)\n    # eyelink auto-closes (el.close()) because it gets registered with EC\n\nea.plot_screen(screenshot)"
      ]
    }
  ],
  "metadata": {
    "kernelspec": {
      "display_name": "Python 3",
      "language": "python",
      "name": "python3"
    },
    "language_info": {
      "codemirror_mode": {
        "name": "ipython",
        "version": 3
      },
      "file_extension": ".py",
      "mimetype": "text/x-python",
      "name": "python",
      "nbconvert_exporter": "python",
      "pygments_lexer": "ipython3",
      "version": "3.7.7"
    }
  },
  "nbformat": 4,
  "nbformat_minor": 0
}