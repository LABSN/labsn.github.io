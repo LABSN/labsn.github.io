{
  "cells": [
    {
      "cell_type": "markdown",
      "metadata": {},
      "source": [
        "\n# Run a simple experiment\n\nThis example demonstrates much of the basic functionality built into\nthe ExperimentController class.\n"
      ]
    },
    {
      "cell_type": "code",
      "execution_count": null,
      "metadata": {
        "collapsed": false
      },
      "outputs": [],
      "source": [
        "# Author: Dan McCloy <drmccloy@uw.edu>\n#\n# License: BSD (3-clause)\n\nimport os\nimport sys\nfrom os import path as op\nimport numpy as np\n\nfrom expyfun import (ExperimentController, get_keyboard_input, set_log_level,\n                     building_doc)\nfrom expyfun.io import read_hdf5\nimport expyfun.analyze as ea\n\nprint(__doc__)\n\nset_log_level('INFO')\n\n# set configuration\nnoise_db = 45  # dB for background noise\nstim_db = 65  # dB for stimuli\nmin_resp_time = 0.1\nmax_resp_time = 2.0\nmax_wait = np.inf\nfeedback_dur = 2.0\nisi = 0.2\nrunning_total = 0\n\n# make the stimuli if necessary and then load them\nfname = 'equally_spaced_sinewaves.hdf5'\nif not op.isfile(fname):\n    # This sys.path wrangling is only necessary for Sphinx automatic\n    # documentation building\n    sys.path.insert(0, os.getcwd())\n    from generate_simple_stimuli import generate_stimuli\n    generate_stimuli()\nstims = read_hdf5(fname)\norig_rms = stims['rms']\nfreqs = stims['freqs']\nfs = stims['fs']\ntrial_order = stims['trial_order']\nnum_trials = len(trial_order)\nnum_freqs = len(freqs)\n\nif num_freqs > 8:\n    raise RuntimeError('Too many frequencies, not enough buttons.')\n\n# keep only sinusoids, order low-high, convert to list of arrays\nwavs = [stims[k] for k in sorted(stims.keys()) if k.startswith('stim_')]\n\n# instructions\ninstructions = ('You will hear tones at {0} different frequencies. Your job is'\n                ' to press the button corresponding to that frequency. Please '\n                'press buttons 1-{0} now to hear each tone.').format(num_freqs)\n\ninstr_finished = ('Okay, now press any of those buttons to start the real '\n                  'thing. There will be background noise.')\n\nwith ExperimentController('testExp', verbose=True, screen_num=0,\n                          window_size=[800, 600], full_screen=False,\n                          stim_db=stim_db, noise_db=noise_db, stim_fs=fs,\n                          participant='foo', session='001',\n                          version='dev', output_dir=None) as ec:\n\n    # define usable buttons / keys\n    live_keys = [x + 1 for x in range(num_freqs)]\n\n    # do training, or not\n    ec.set_visible(False)\n    long_resp_time = max_resp_time + 1\n    if building_doc:\n        max_wait = max_resp_time = min_resp_time = train = feedback_dur = 0\n        long_resp_time = 0\n    else:\n        train = get_keyboard_input('Run training (0=no, 1=yes [default]): ',\n                                   1, int)\n    ec.set_visible(True)\n\n    if train:\n        not_yet_pressed = live_keys[:]\n\n        # show instructions until all buttons have been pressed at least once\n        ec.screen_text(instructions)\n        ec.flip()\n        while len(not_yet_pressed) > 0:\n            pressed, timestamp = ec.wait_one_press(live_keys=live_keys)\n            for p in pressed:\n                p = int(p)\n                ec.load_buffer(wavs[p - 1])\n                ec.play()\n                ec.wait_secs(len(wavs[p - 1]) / float(ec.fs))\n                ec.stop()\n                if p in not_yet_pressed:\n                    not_yet_pressed.pop(not_yet_pressed.index(p))\n        ec.flip()  # clears the screen\n        ec.wait_secs(isi)\n\n    # show instructions finished screen\n    ec.screen_prompt(instr_finished, live_keys=live_keys, max_wait=max_wait)\n    ec.wait_secs(isi)\n\n    ec.call_on_next_flip(ec.start_noise())\n    ec.screen_text('OK, here we go!', wrap=False)\n    screenshot = ec.screenshot()\n    ec.wait_one_press(max_wait=feedback_dur, live_keys=None)\n    ec.wait_secs(isi)\n\n    single_trial_order = trial_order[range(len(trial_order) // 2)]\n    mass_trial_order = trial_order[len(trial_order) // 2:]\n    # run the single-tone trials\n    for stim_num in single_trial_order:\n        ec.load_buffer(wavs[stim_num])\n        ec.identify_trial(ec_id=stim_num, ttl_id=[0, 0])\n        ec.write_data_line('one-tone trial', stim_num + 1)\n        ec.start_stimulus()\n        pressed, timestamp = ec.wait_one_press(max_resp_time, min_resp_time,\n                                               live_keys)\n        ec.stop()  # will stop stim playback as soon as response logged\n        ec.trial_ok()\n\n        # some feedback\n        if pressed is None:\n            message = 'Too slow!'\n        elif int(pressed) == stim_num + 1:\n            running_total += 1\n            message = ('Correct! Your reaction time was '\n                       '{}').format(round(timestamp, 3))\n        else:\n            message = ('You pressed {0}, the correct answer was '\n                       '{1}.').format(pressed, stim_num + 1)\n        ec.screen_prompt(message, max_wait=feedback_dur)\n        ec.wait_secs(isi)\n\n    # create 100 ms pause to play between stims and concatenate\n    pause = np.zeros(int(ec.fs / 10))\n    concat_wavs = wavs[mass_trial_order[0]]\n    for num in mass_trial_order[1:len(mass_trial_order)]:\n        concat_wavs = np.r_[concat_wavs, pause, wavs[num]]\n    concat_dur = len(concat_wavs) / float(ec.fs)\n    # run mass trial\n    ec.screen_prompt('Now you will hear {0} tones in a row. After they stop, '\n                     'wait for the \"Go!\" prompt, then you will have {1} '\n                     'seconds to push the buttons in the order that the tones '\n                     'played in. Press one of the buttons to begin.'\n                     ''.format(len(mass_trial_order), max_resp_time),\n                     live_keys=live_keys, max_wait=max_wait)\n    ec.load_buffer(concat_wavs)\n    ec.identify_trial(ec_id='multi-tone', ttl_id=[0, 1])\n    ec.write_data_line('multi-tone trial', [x + 1 for x in mass_trial_order])\n    ec.start_stimulus()\n    ec.wait_secs(len(concat_wavs) / float(ec.stim_fs) if not building_doc else\n                 0)\n    ec.screen_text('Go!', wrap=False)\n    ec.flip()\n    pressed = ec.wait_for_presses(long_resp_time, min_resp_time,\n                                  live_keys, False)\n    answers = [str(x + 1) for x in mass_trial_order]\n    correct = [press == ans for press, ans in zip(pressed, answers)]\n    running_total += sum(correct)\n    ec.call_on_next_flip(ec.stop_noise())\n    ec.screen_prompt('You got {0} out of {1} correct.'\n                     ''.format(sum(correct), len(answers)),\n                     max_wait=feedback_dur)\n    ec.trial_ok()\n\n    # end experiment\n    ec.screen_prompt('All done! You got {0} correct out of {1} tones. Press '\n                     'any key to close.'.format(running_total, num_trials),\n                     max_wait=max_wait)\n\nea.plot_screen(screenshot)"
      ]
    }
  ],
  "metadata": {
    "kernelspec": {
      "display_name": "Python 3",
      "language": "python",
      "name": "python3"
    },
    "language_info": {
      "codemirror_mode": {
        "name": "ipython",
        "version": 3
      },
      "file_extension": ".py",
      "mimetype": "text/x-python",
      "name": "python",
      "nbconvert_exporter": "python",
      "pygments_lexer": "ipython3",
      "version": "3.10.6"
    }
  },
  "nbformat": 4,
  "nbformat_minor": 0
}