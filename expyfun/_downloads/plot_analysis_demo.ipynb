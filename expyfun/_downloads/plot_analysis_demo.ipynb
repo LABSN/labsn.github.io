{
  "nbformat_minor": 0, 
  "nbformat": 4, 
  "cells": [
    {
      "execution_count": null, 
      "cell_type": "code", 
      "source": [
        "%matplotlib inline"
      ], 
      "outputs": [], 
      "metadata": {
        "collapsed": false
      }
    }, 
    {
      "source": [
        "\n# Analysis demo\n\n\nThis example simulates some 2AFC data and demonstrates the analysis\nfunctions ``dprime_2afc()`` and ``barplot()``.\n\n"
      ], 
      "cell_type": "markdown", 
      "metadata": {}
    }, 
    {
      "execution_count": null, 
      "cell_type": "code", 
      "source": [
        "# Author: Dan McCloy <drmccloy@uw.edu>\n#\n# License: BSD (3-clause)\n\nimport numpy as np\nimport pandas as pd\nimport matplotlib.pyplot as plt\n\nimport expyfun.analyze as ea\n\nprint(__doc__)\n\n# simulate some 2AFC data\ntrials = 100\nc_prob = 0.9\nt_prob = 0.6\nsubjs = ['a', 'b', 'c', 'd', 'e']\nctrl = np.random.binomial(trials, c_prob, len(subjs))\ntest = np.random.binomial(trials, t_prob, len(subjs))\nctrl_miss = trials - ctrl\ntest_miss = trials - test\ndata = pd.DataFrame(dict(ctrl_hit=ctrl, ctrl_miss=ctrl_miss,\n                         test_hit=test, test_miss=test_miss), index=subjs)\n# calculate dprimes\nctrl_dprime = ea.dprime_2afc(data[['ctrl_hit', 'ctrl_miss']])\ntest_dprime = ea.dprime_2afc(data[['test_hit', 'test_miss']])\nresults = pd.DataFrame(dict(ctrl=ctrl_dprime, test=test_dprime))\n# plot\nsubplt, barplt = ea.barplot(results, axis=0, err_bars='sd', lines=True,\n                            brackets=[(0, 1)], bracket_text=[r'$p < 10^{-9}$'])\nsubplt.yaxis.set_label_text('d-prime +/- 1 s.d.')\nsubplt.set_title('Each line represents a different subject')\n\n# significance brackets example\ntrials_per_cond = 100\nconds = ['ctrl', 'test']\ndiffs = ['easy', 'hard']\ncolnames = ['-'.join([x, y]) for x, y in zip(conds * 2,\n            np.tile(diffs, (2, 1)).T.ravel().tolist())]\ncprob = [0.8, 0.5]\ndprob = [0.9, 0.6]\ncblock = np.tile(np.atleast_2d(cprob).T, (2, len(subjs))).T\ndblock = np.tile(np.atleast_2d(np.repeat(dprob, 2)).T, len(subjs)).T\nprobs = cblock * dblock\nrawscores = np.random.binomial(trials_per_cond, probs, (len(subjs),\n                                                        len(conds) *\n                                                        len(diffs)))\nhitmiss = np.c_[rawscores.ravel(), (trials_per_cond - rawscores).ravel()]\ndprimes = ea.dprime_2afc(hitmiss).reshape(rawscores.shape)\nresults = pd.DataFrame(dprimes, index=subjs, columns=colnames)\nsubplt, barplt = ea.barplot(results, axis=0, err_bars='sd', lines=True,\n                            groups=[(0, 1), (2, 3)], group_names=diffs,\n                            bar_names=conds * 2, bracket_group_lines=True,\n                            brackets=[(0, 1), (2, 3), (0, 2), (1, 3),\n                                      ([0, 1], 3)],  # [2, 3]\n                            bracket_text=['foo', 'bar', 'baz', 'snafu',\n                                          'foobar'])\nsubplt.yaxis.set_label_text('d-prime +/- 1 s.d.')\nsubplt.set_title('Each line represents a different subject')\nplt.show()"
      ], 
      "outputs": [], 
      "metadata": {
        "collapsed": false
      }
    }
  ], 
  "metadata": {
    "kernelspec": {
      "display_name": "Python 2", 
      "name": "python2", 
      "language": "python"
    }, 
    "language_info": {
      "mimetype": "text/x-python", 
      "nbconvert_exporter": "python", 
      "name": "python", 
      "file_extension": ".py", 
      "version": "2.7.11", 
      "pygments_lexer": "ipython2", 
      "codemirror_mode": {
        "version": 2, 
        "name": "ipython"
      }
    }
  }
}