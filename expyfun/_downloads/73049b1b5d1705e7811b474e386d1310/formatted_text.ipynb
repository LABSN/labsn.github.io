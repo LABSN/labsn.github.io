{
  "cells": [
    {
      "cell_type": "markdown",
      "metadata": {},
      "source": [
        "\n# Display text with different formatting methods\n\nThis example demonstrates differences between the Text and AttrText classes.\n"
      ]
    },
    {
      "cell_type": "code",
      "execution_count": null,
      "metadata": {
        "collapsed": false
      },
      "outputs": [],
      "source": [
        "# Author: Dan McCloy <drmccloy@uw.edu>\n#\n# License: BSD (3-clause)\n\nfrom expyfun import ExperimentController, analyze, building_doc\nfrom expyfun.visual import _convert_color\n\nprint(__doc__)\n\n# Colors\nblue = _convert_color(\"#00CEE9\")\npink = _convert_color(\"#FF97AF\")\nwhite = (255, 255, 255, 255)\n# Text\none = (\n    \"This text can only have a single color, font, and size for the whole \"\n    \"sentence, because it is specified as attr=False\"\n)\ntwo = (\n    \"Additional calls to ec.screen_text() can have different formatting,\"\n    \"but have to be manually positioned.\"\n)\nthr = (\n    f\"This text can have {{color {blue}}}different {{color {pink}}}colors \"\n    f\"speci{{color {white}}}fied inline, because its {{color {blue}}}attr \"\n    f\"{{color {white}}}argument is {{color {pink}}}True. {{color {white}}}\"\n    \"Specifying different typefaces or sizes inline is buggy and \"\n    \"not recommended.\"\n)\nfou = \"Press any key to change all the text to pink using .set_color().\"\nfiv = \"Press any key to quit.\"\nmax_wait = float(\"inf\") if not building_doc else 0.0\n\nwith ExperimentController(\n    \"textDemo\", participant=\"foo\", session=\"001\", output_dir=None, version=\"dev\"\n) as ec:\n    ec.wait_secs(0.1)  # without this, first flip doesn't show on some systems\n    txt_one = ec.screen_text(one, pos=[0, 0.5], attr=False)\n    txt_two = ec.screen_text(\n        two, pos=[0, 0.2], font_name=\"Times New Roman\", font_size=32, color=\"#00CEE9\"\n    )\n    txt_thr = ec.screen_text(thr, pos=[0, -0.2])\n    screenshot = ec.screenshot()\n    ec.screen_prompt(fou, pos=[0, -0.5], max_wait=max_wait)\n    for txt in (txt_one, txt_two, txt_thr):\n        txt.set_color(\"#FF97AF\")\n        txt.draw()\n    ec.screen_prompt(fiv, pos=[0, -0.5], max_wait=max_wait)\n\nanalyze.plot_screen(screenshot)"
      ]
    }
  ],
  "metadata": {
    "kernelspec": {
      "display_name": "Python 3",
      "language": "python",
      "name": "python3"
    },
    "language_info": {
      "codemirror_mode": {
        "name": "ipython",
        "version": 3
      },
      "file_extension": ".py",
      "mimetype": "text/x-python",
      "name": "python",
      "nbconvert_exporter": "python",
      "pygments_lexer": "ipython3",
      "version": "3.10.12"
    }
  },
  "nbformat": 4,
  "nbformat_minor": 0
}