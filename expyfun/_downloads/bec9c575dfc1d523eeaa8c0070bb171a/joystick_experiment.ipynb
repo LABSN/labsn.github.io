{
  "cells": [
    {
      "cell_type": "markdown",
      "metadata": {},
      "source": [
        "\n# Use joystick controls\n\nThis example demonstrates how to use a joystick as an input device\nusing button presses and continuous analog movement to control the position\nof a circle on the screen.\n"
      ]
    },
    {
      "cell_type": "code",
      "execution_count": null,
      "metadata": {
        "collapsed": false
      },
      "outputs": [],
      "source": [
        "# Author: Eric Larson <larson.eric.d@gmail.com>\n#\n# License: BSD (3-clause)\n\nfrom expyfun import ExperimentController, analyze, building_doc\nfrom expyfun.visual import Circle, Text\n\nprint(__doc__)\n\njoystick = not building_doc\nmove_rate = 0.05  # map -1<->1 stick range to something decent for 60Hz refresh\nnoise_thresh = 0.01  # permit slight miscalibration\n# on a Logitech Cordless Rumblepad, the right stick is the analog one,\n# and it has values stored in z and rz\njoy_keys = ('z', 'rz')\nwith ExperimentController('joyExp', participant='foo', session='001',\n                          output_dir=None, version='dev',\n                          joystick=joystick) as ec:\n    circles = [Circle(ec, 0.5, units='deg',\n               fill_color=(1., 1., 1., 0.2), line_color='w')]\n    # We use normalized units for \"pos\" so we need to compensate in movement\n    # so that X/Y movement is even\n    ratios = [1., ec.window_size_pix[0] / float(ec.window_size_pix[1])]\n    pressed = ''\n    if not building_doc:\n        ec.listen_joystick_button_presses()\n    count = 0\n    screenshot = None\n    pos = [0., 0.]\n    while pressed != '2':  # enable a clean quit (button number 3)\n        #######################################################################\n        # Draw things\n        Text(ec, str(count), pos=(1, -1),\n             anchor_x='right', anchor_y='bottom').draw()\n        for circle in circles[::-1]:\n            circle.draw()\n        screenshot = ec.screenshot() if screenshot is None else screenshot\n        ec.flip()\n\n        #######################################################################\n        # Get presses\n        if not building_doc:\n            pressed = ec.get_joystick_button_presses()\n            ec.listen_joystick_button_presses()  # clear events\n        else:\n            pressed = [('2',)]\n        count += len(pressed)\n\n        #######################################################################\n        # Move the cursor\n        for idx, (key, ratio) in enumerate(zip(joy_keys, ratios)):\n            delta = 0. if building_doc else ec.get_joystick_value(key)\n            if abs(delta) > noise_thresh:  # remove noise\n                pos[idx] = max(min(\n                    pos[idx] + move_rate * ratio * delta, 1), -1)\n        circles[0].set_pos(pos, units='norm')\n        if pressed:\n            circles.insert(1, Circle(ec, 1, units='deg',\n                           fill_color='r', line_color='w'))\n            circles[1].set_pos(pos, units='norm')\n            if len(circles) > 5:\n                circles.pop(-1)\n            pressed = pressed[0][0]  # for exit condition\n        ec.check_force_quit()\n\nanalyze.plot_screen(screenshot)"
      ]
    }
  ],
  "metadata": {
    "kernelspec": {
      "display_name": "Python 3",
      "language": "python",
      "name": "python3"
    },
    "language_info": {
      "codemirror_mode": {
        "name": "ipython",
        "version": 3
      },
      "file_extension": ".py",
      "mimetype": "text/x-python",
      "name": "python",
      "nbconvert_exporter": "python",
      "pygments_lexer": "ipython3",
      "version": "3.10.6"
    }
  },
  "nbformat": 4,
  "nbformat_minor": 0
}