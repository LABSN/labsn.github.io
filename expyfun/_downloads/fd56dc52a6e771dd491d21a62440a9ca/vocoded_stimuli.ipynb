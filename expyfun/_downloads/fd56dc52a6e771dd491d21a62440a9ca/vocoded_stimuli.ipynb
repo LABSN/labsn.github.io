{
  "cells": [
    {
      "cell_type": "code",
      "execution_count": null,
      "metadata": {
        "collapsed": false
      },
      "outputs": [],
      "source": [
        "%matplotlib inline"
      ]
    },
    {
      "cell_type": "markdown",
      "metadata": {},
      "source": [
        "\n# Generate vocoded stimuli\n\n\nThis shows how to make simple vocoded stimuli.\n\n@author: larsoner\n"
      ]
    },
    {
      "cell_type": "code",
      "execution_count": null,
      "metadata": {
        "collapsed": false
      },
      "outputs": [],
      "source": [
        "import numpy as np\nimport matplotlib.pyplot as plt\n\nfrom expyfun.stimuli import vocode, play_sound, window_edges, read_wav, rms\nfrom expyfun import fetch_data_file\n\nprint(__doc__)\n\n\ndata, fs = read_wav(fetch_data_file('audio/dream.wav'))\ndata = window_edges(data[0], fs)\nt = np.arange(data.size) / float(fs)\n# noise vocoder\ndata_noise = vocode(data, fs, mode='noise')\ndata_noise = data_noise * 0.01 / rms(data_noise)\n# sinewave vocoder\ndata_tone = vocode(data, fs, mode='tone')\ndata_tone = data_tone * 0.01 / rms(data_tone)\n# poisson vocoder\ndata_click = vocode(data, fs, mode='poisson', rate=400)\ndata_click = data_click * 0.01 / rms(data_click)\n\n# combine all three\ncutoff = data.shape[-1] // 3\ndata_allthree = data_noise.copy()\ndata_allthree[cutoff:2 * cutoff] = data_tone[cutoff:2 * cutoff]\ndata_allthree[2 * cutoff:] = data_click[2 * cutoff:]\nsnd = play_sound(data_allthree, fs, norm=False, wait=False)\n\n# Uncomment this to play the original, too:\n# snd = play_sound(data, fs, norm=False, wait=False)\n\nax1 = plt.subplot(3, 1, 1)\nax1.plot(t, data)\nax1.set_title('Original')\nax1.set_ylabel('Amplitude')\nax2 = plt.subplot(3, 1, 2, sharex=ax1, sharey=ax1)\nax2.plot(t, data_noise)\nax2.set_title('Vocoded')\nax3 = plt.subplot(3, 1, 3, sharex=ax1)\nax2.set_title('Spectrogram')\nax2.set_ylabel('Amplitude')\nax3.specgram(data_noise, Fs=fs)\nax3.set_xlim(t[[0, -1]])\nax3.set_ylim([0, fs / 2.])\nax3.set_ylabel('Frequency (hz)')\nax3.set_xlabel('Time (sec)')\nplt.tight_layout()\nplt.show()"
      ]
    }
  ],
  "metadata": {
    "kernelspec": {
      "display_name": "Python 3",
      "language": "python",
      "name": "python3"
    },
    "language_info": {
      "codemirror_mode": {
        "name": "ipython",
        "version": 3
      },
      "file_extension": ".py",
      "mimetype": "text/x-python",
      "name": "python",
      "nbconvert_exporter": "python",
      "pygments_lexer": "ipython3",
      "version": "3.7.5"
    }
  },
  "nbformat": 4,
  "nbformat_minor": 0
}