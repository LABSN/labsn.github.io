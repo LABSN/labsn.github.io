{
  "cells": [
    {
      "cell_type": "code",
      "execution_count": null,
      "metadata": {
        "collapsed": false
      },
      "outputs": [],
      "source": [
        "%matplotlib inline"
      ]
    },
    {
      "cell_type": "markdown",
      "metadata": {},
      "source": [
        "\n# Do an adaptive track staircase\n\nThis shows how to make and use an adaptive track using\n:class:`expyfun.stimuli.TrackerUD`.\n\n@author: rkmaddox\n"
      ]
    },
    {
      "cell_type": "code",
      "execution_count": null,
      "metadata": {
        "collapsed": false
      },
      "outputs": [],
      "source": [
        "import numpy as np\n\nfrom expyfun.stimuli import TrackerUD\nfrom expyfun.analyze import sigmoid\n\nprint(__doc__)\n\n\n# Make a callback function that prints to the console, rather than log file\ndef callback(event_type, value=None, timestamp=None):\n    print((str(event_type) + ':').ljust(40) + str(value))\n\n\n# Define parameters for modeled human subject (sigmoid probability)\ntrue_thresh = 35\nslope = 0.1\nchance = 0.5\n\n# Make a tracker that uses the weighted up-down procedure to find 75%\ntr = TrackerUD(callback, 1, 1, [9, 3], [3, 1], 30, np.inf, 60, [4])\n\n# Initialize human state\nrng = np.random.RandomState(1)\n\n# Do the task until the tracker stops\nwhile not tr.stopped:\n    tr.respond(rng.rand() < sigmoid(tr.x_current - true_thresh,\n                                    lower=chance, slope=slope))\n\n# Plot the results\nfig, ax, lines = tr.plot()\nlines += tr.plot_thresh(4, ax=ax)\n\nax.set_title('Adaptive track of model human (true threshold is {})'\n             .format(true_thresh))"
      ]
    }
  ],
  "metadata": {
    "kernelspec": {
      "display_name": "Python 3",
      "language": "python",
      "name": "python3"
    },
    "language_info": {
      "codemirror_mode": {
        "name": "ipython",
        "version": 3
      },
      "file_extension": ".py",
      "mimetype": "text/x-python",
      "name": "python",
      "nbconvert_exporter": "python",
      "pygments_lexer": "ipython3",
      "version": "3.10.6"
    }
  },
  "nbformat": 4,
  "nbformat_minor": 0
}