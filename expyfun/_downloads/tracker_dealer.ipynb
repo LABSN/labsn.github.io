{
  "nbformat_minor": 0, 
  "nbformat": 4, 
  "cells": [
    {
      "execution_count": null, 
      "cell_type": "code", 
      "source": [
        "%matplotlib inline"
      ], 
      "outputs": [], 
      "metadata": {
        "collapsed": false
      }
    }, 
    {
      "source": [
        "\n# Tracker Dealer Example\n\n\nThis file shows how to interleave multiple Tracker objects using\n:class:`expyfun.stimuli.TrackerDealer`.\n\nIn this case, a modeled human subject generates two curves (one for each trial\ntype: 1 & 2).\n\n@author: maddycapp27\n\n"
      ], 
      "cell_type": "markdown", 
      "metadata": {}
    }, 
    {
      "execution_count": null, 
      "cell_type": "code", 
      "source": [
        "import numpy as np\nfrom expyfun.stimuli import TrackerUD, TrackerDealer\nfrom expyfun.analyze import sigmoid\nimport matplotlib.pyplot as plt\n\n# define parameters of modeled subject (using sigmoid probability)\ntrue_thresh = [30, 40]  # true thresholds for trial types 1 and 2\nslope = 0.1\nchance = 0.5"
      ], 
      "outputs": [], 
      "metadata": {
        "collapsed": false
      }
    }, 
    {
      "source": [
        "Defining Tracker Parameters\n---------------------------\nIn this example, the tracker parameters are exactly the same for each\ninstance of the up-down adaptive tracker. These are defined such that the\nstep sizes vary for both up v. down (the up step size is larger by a factor\nof 3) and based on the number of reversals (the first element in each\nlist is the step size until the number of reversals dictacted by the second\nelement in change_criteria have occured (i.e. the up step size will be 9\nuntil 5 reversals have occured, then the up step size will be 3.))\n\n"
      ], 
      "cell_type": "markdown", 
      "metadata": {}
    }, 
    {
      "execution_count": null, 
      "cell_type": "code", 
      "source": [
        "up = 1\ndown = 1\nstep_size_up = [9, 3]\nstep_size_down = [3, 1]\nstop_criterion = 30\nstop_rule = 'reversals'\nstart_value = 45\nchange_criteria = [0, 5]\nchange_rule = 'reversals'\nx_min = 0\nx_max = 90\n\n\n# callback function that prints to console\ndef callback(event_type, value=None, timestamp=None):\n    print((str(event_type) + ':').ljust(40) + str(value))\n\n\n# parameters for the tracker dealer\nmax_lag = 2\nrng_dealer = np.random.RandomState(3)  # random seed for selecting trial type"
      ], 
      "outputs": [], 
      "metadata": {
        "collapsed": false
      }
    }, 
    {
      "source": [
        "Initializing and Running Trackers\n---------------------------------\nThe two trackers in this example use all of the same parameters and then are\npassed into the dealer. After the dealer is created, the type of each trial\n(returned as an index of the array of individual trackers) and trial level\nfor that trial can be acquired.\n\n"
      ], 
      "cell_type": "markdown", 
      "metadata": {}
    }, 
    {
      "execution_count": null, 
      "cell_type": "code", 
      "source": [
        "# initialize two tracker objects--one for each trial type\ntr_UD = [TrackerUD(callback, up, down, step_size_up, step_size_down,\n                   stop_criterion, stop_rule, start_value,\n                   change_criteria, change_rule, x_min, x_max) for i in [0, 1]]\n\n# initialize TrackerDealer object\ntr = TrackerDealer(tr_UD, max_lag, rng_dealer)\n\n# Initialize human state\nrng_human = np.random.RandomState(1)  # random seed for modeled subject\n\nwhile not tr.stopped:\n    # Get information of which trial type is next and what the level is at\n    # that time from TrackerDealer\n    ss, level = tr.get_trial()\n    ss = sum(ss)\n    tr_UD[ss].respond(rng_human.rand() < sigmoid(level - true_thresh[ss],\n                                                 lower=chance, slope=slope))"
      ], 
      "outputs": [], 
      "metadata": {
        "collapsed": false
      }
    }, 
    {
      "source": [
        "Plotting the Results\n---------------------------\n\n"
      ], 
      "cell_type": "markdown", 
      "metadata": {}
    }, 
    {
      "execution_count": null, 
      "cell_type": "code", 
      "source": [
        "axes = plt.subplots(2, 1)[1]\nfor i in [0, 1]:\n    fig, ax, lines = tr[i].plot(ax=axes[i])\n    lines += tr[i].plot_thresh(4, ax=ax)\n\n    lines[0].set_label('Trials')\n    lines[1].set_label('Reversals')\n    lines[2].set_label('Estimated threshold')\n\n    ax.legend(loc='best')\n    ax.set_title('Adaptive track of model human trial type {} (true threshold '\n                 'is {})'.format(i + 1, true_thresh[i]))\n    fig.tight_layout()"
      ], 
      "outputs": [], 
      "metadata": {
        "collapsed": false
      }
    }
  ], 
  "metadata": {
    "kernelspec": {
      "display_name": "Python 2", 
      "name": "python2", 
      "language": "python"
    }, 
    "language_info": {
      "mimetype": "text/x-python", 
      "nbconvert_exporter": "python", 
      "name": "python", 
      "file_extension": ".py", 
      "version": "2.7.13", 
      "pygments_lexer": "ipython2", 
      "codemirror_mode": {
        "version": 2, 
        "name": "ipython"
      }
    }
  }
}