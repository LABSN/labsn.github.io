{
  "cells": [
    {
      "cell_type": "code",
      "execution_count": null,
      "metadata": {
        "collapsed": false
      },
      "outputs": [],
      "source": [
        "%matplotlib inline"
      ]
    },
    {
      "cell_type": "markdown",
      "metadata": {},
      "source": [
        "\n==========================================================================\nAdaptive tracking for two trial types and tracker reconstruction from .tab\n==========================================================================\n\nThis file shows how to interleave multiple Tracker objects using\n:class:`expyfun.stimuli.TrackerDealer` as well as how to reconstruct the\ndealer from the .tab file logged by experiment controller with\n:func:`expyfun.io.reconstruct_dealer`,\n\nIn this case, a modeled human subject generates two curves (one for each trial\ntype: 1 & 2).\n\n@author: maddycapp27\n\n"
      ]
    },
    {
      "cell_type": "code",
      "execution_count": null,
      "metadata": {
        "collapsed": false
      },
      "outputs": [],
      "source": [
        "import numpy as np\nfrom expyfun import ExperimentController\nfrom expyfun.stimuli import TrackerUD, TrackerDealer\nfrom expyfun.analyze import sigmoid\nfrom expyfun.io import reconstruct_dealer\nimport matplotlib.pyplot as plt\n\n# define parameters of modeled subject (using sigmoid probability)\ntrue_thresh = [30, 40]  # true thresholds for trial types 1 and 2\nslope = 0.1\nchance = 0.5"
      ]
    },
    {
      "cell_type": "markdown",
      "metadata": {},
      "source": [
        "Defining Tracker Parameters\n---------------------------\nIn this example, the tracker parameters are exactly the same for each\ninstance of the up-down adaptive tracker. These are defined such that the\nstep sizes vary for both up v. down (the up step size is larger by a factor\nof 3) and based on the number of reversals (the first element in each\nlist is the step size until the number of reversals dictacted by the second\nelement in change_criteria have occured (i.e. the up step size will be 9\nuntil 5 reversals have occured, then the up step size will be 3.))\n\n"
      ]
    },
    {
      "cell_type": "code",
      "execution_count": null,
      "metadata": {
        "collapsed": false
      },
      "outputs": [],
      "source": [
        "up = 1\ndown = 1\nstep_size_up = [9, 3]\nstep_size_down = [3, 1]\nstop_reversals = 30\nstop_trials = np.inf\nstart_value = 45\nchange_indices = [5]\nchange_rule = 'reversals'\nx_min = 0\nx_max = 90\n\n# parameters for the tracker dealer\nmax_lag = 2\npace_rule = 'reversals'\nrng_dealer = np.random.RandomState(3)  # random seed to select trial type"
      ]
    },
    {
      "cell_type": "markdown",
      "metadata": {},
      "source": [
        "Initializing and Running Trackers\n---------------------------------\nThe two trackers in this example use all of the same parameters and then are\npassed into the dealer. After the dealer is created, the type of each trial\n(returned as an index of the array of individual trackers) and trial level\nfor that trial can be acquired. :class:`expyfun.ExperimentController` is used\nto generate log files with :class:`expyfun.stimuli.TrackerUD` and\n:class:`expyfun.stimuli.TrackerDealer` information.\n\n"
      ]
    },
    {
      "cell_type": "code",
      "execution_count": null,
      "metadata": {
        "collapsed": false
      },
      "outputs": [],
      "source": [
        "std_args = ['test']  # experiment name\nstd_kwargs = dict(full_screen=False, window_size=(1, 1), participant='foo',\n                  session='01', stim_db=0.0, noise_db=0.0, verbose=True,\n                  version='dev')\n\nwith ExperimentController(*std_args, **std_kwargs) as ec:\n\n    # initialize two tracker objects--one for each trial type\n    tr_ud = [TrackerUD(ec, up, down, step_size_up, step_size_down,\n                       stop_reversals, stop_trials, start_value,\n                       change_indices, change_rule, x_min,\n                       x_max) for i in [0, 1]]\n\n    # initialize TrackerDealer object\n    td = TrackerDealer(ec, tr_ud, max_lag, pace_rule, rng_dealer)\n\n    # Initialize human state\n    rng_human = np.random.RandomState(1)  # random seed for modeled subject\n\n    for ss, level in td:\n        # Get information of which trial type is next and what the level is at\n        # that time from TrackerDealer\n        td.respond(rng_human.rand() < sigmoid(level - true_thresh[sum(ss)],\n                                              lower=chance, slope=slope))"
      ]
    },
    {
      "cell_type": "markdown",
      "metadata": {},
      "source": [
        "Reconstructing the TrackerDealer Object\n---------------------------------------\nThe TrackerDealer object has many built in analysis functions that are can\nonly be access through the object itself (not the log files alone). By using\n:func:`expyfun.io.reconstruct_dealer`, the object can be recreated such that\nthe analysis functions are accessible. Note that the function always returns\na list of objects. Similar reconstructions of single trackers can be done\nwith :func:`expyfun.io.reconstruct_tracker`.\n\n"
      ]
    },
    {
      "cell_type": "code",
      "execution_count": null,
      "metadata": {
        "collapsed": false
      },
      "outputs": [],
      "source": [
        "td_tab = reconstruct_dealer(ec.data_fname)[0]"
      ]
    },
    {
      "cell_type": "markdown",
      "metadata": {},
      "source": [
        "Plotting the Results\n---------------------------\n\n"
      ]
    },
    {
      "cell_type": "code",
      "execution_count": null,
      "metadata": {
        "collapsed": false
      },
      "outputs": [],
      "source": [
        "axes = plt.subplots(2, 1)[1]\nfor i in [0, 1]:\n    fig, ax, lines = td_tab.trackers.ravel()[i].plot(ax=axes[i], n_skip=4)\n\n    ax.legend(loc='best')\n    ax.set_title('Adaptive track of model human trial type {} (true threshold '\n                 'is {})'.format(i + 1, true_thresh[i]))\n    fig.tight_layout()"
      ]
    }
  ],
  "metadata": {
    "kernelspec": {
      "display_name": "Python 3",
      "language": "python",
      "name": "python3"
    },
    "language_info": {
      "codemirror_mode": {
        "name": "ipython",
        "version": 3
      },
      "file_extension": ".py",
      "mimetype": "text/x-python",
      "name": "python",
      "nbconvert_exporter": "python",
      "pygments_lexer": "ipython3",
      "version": "3.6.5"
    }
  },
  "nbformat": 4,
  "nbformat_minor": 0
}