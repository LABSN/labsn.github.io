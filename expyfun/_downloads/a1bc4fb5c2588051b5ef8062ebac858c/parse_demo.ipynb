{
  "cells": [
    {
      "cell_type": "code",
      "execution_count": null,
      "metadata": {
        "collapsed": false
      },
      "outputs": [],
      "source": [
        "%matplotlib inline"
      ]
    },
    {
      "cell_type": "markdown",
      "metadata": {},
      "source": [
        "\n# Parsing demo\n\nThis example shows some of the functionality of ``read_tab``.\n"
      ]
    },
    {
      "cell_type": "code",
      "execution_count": null,
      "metadata": {
        "collapsed": false
      },
      "outputs": [],
      "source": [
        "# Author: Eric Larson <larson.eric.d@gmail.com>\n#\n# License: BSD (3-clause)\n\nimport ast\n\nfrom expyfun.io import read_tab\n\nprint(__doc__)\n\n\ndata = read_tab('sample.tab')  # from simple_experiment\nprint('Number of trials: %s' % len(data))\nkeys = list(data[0].keys())\nprint('Data keys:     %s\\n' % keys)\nfor di, d in enumerate(data):\n    if d['trial_id'][0][0] == 'multi-tone':\n        print('Trial %s multi-tone' % (di + 1))\n        targs = ast.literal_eval(d['multi-tone trial'][0][0])\n        presses = [int(k[0]) for k in d['keypress']]\n        print('  Targs: %s\\n  Press: %s' % (targs, presses))"
      ]
    }
  ],
  "metadata": {
    "kernelspec": {
      "display_name": "Python 3",
      "language": "python",
      "name": "python3"
    },
    "language_info": {
      "codemirror_mode": {
        "name": "ipython",
        "version": 3
      },
      "file_extension": ".py",
      "mimetype": "text/x-python",
      "name": "python",
      "nbconvert_exporter": "python",
      "pygments_lexer": "ipython3",
      "version": "3.8.5"
    }
  },
  "nbformat": 4,
  "nbformat_minor": 0
}