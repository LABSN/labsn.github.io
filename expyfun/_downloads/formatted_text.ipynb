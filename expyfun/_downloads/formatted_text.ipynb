{
  "cells": [
    {
      "cell_type": "code",
      "execution_count": null,
      "metadata": {
        "collapsed": false
      },
      "outputs": [],
      "source": [
        "%matplotlib inline"
      ]
    },
    {
      "cell_type": "markdown",
      "metadata": {},
      "source": [
        "\n# Display text with different formatting methods\n\n\nThis example demonstrates differences between the Text and AttrText classes.\n\n"
      ]
    },
    {
      "cell_type": "code",
      "execution_count": null,
      "metadata": {
        "collapsed": false
      },
      "outputs": [],
      "source": [
        "# Author: Dan McCloy <drmccloy@uw.edu>\n#\n# License: BSD (3-clause)\n\nfrom expyfun import ExperimentController, analyze, building_doc\nfrom expyfun.visual import _convert_color\n\nprint(__doc__)\n\n# Colors\nblue = _convert_color('#00CEE9')\npink = _convert_color('#FF97AF')\nwhite = (255, 255, 255, 255)\n# Text\none = ('This text can only have a single color, font, and size for the whole '\n       'sentence, because it is specified as attr=False')\ntwo = ('Additional calls to ec.screen_text() can have different formatting,'\n       'but have to be manually positioned.')\nthr = ('This text can have {{color {0}}}different {{color {1}}}colors '\n       'speci{{color {2}}}fied inline, because its {{color {0}}}attr '\n       '{{color {2}}}argument is {{color {1}}}True. {{color {2}}}'\n       'Specifying different typefaces or sizes inline is buggy and '\n       'not recommended.').format(blue, pink, white)\nfou = 'Press any key to change all the text to pink using .set_color().'\nfiv = 'Press any key to quit.'\nmax_wait = float('inf') if not building_doc else 0.\n\nwith ExperimentController('textDemo', participant='foo', session='001',\n                          output_dir=None, version='dev') as ec:\n    ec.wait_secs(0.1)  # without this, first flip doesn't show on some systems\n    txt_one = ec.screen_text(one, pos=[0, 0.5], attr=False)\n    txt_two = ec.screen_text(two, pos=[0, 0.2], font_name='Times New Roman',\n                             font_size=32, color='#00CEE9')\n    txt_thr = ec.screen_text(thr, pos=[0, -0.2])\n    screenshot = ec.screenshot()\n    ec.screen_prompt(fou, pos=[0, -0.5], max_wait=max_wait)\n    for txt in (txt_one, txt_two, txt_thr):\n        txt.set_color('#FF97AF')\n        txt.draw()\n    ec.screen_prompt(fiv, pos=[0, -0.5], max_wait=max_wait)\n\nanalyze.plot_screen(screenshot)"
      ]
    }
  ],
  "metadata": {
    "kernelspec": {
      "display_name": "Python 3",
      "language": "python",
      "name": "python3"
    },
    "language_info": {
      "codemirror_mode": {
        "name": "ipython",
        "version": 3
      },
      "file_extension": ".py",
      "mimetype": "text/x-python",
      "name": "python",
      "nbconvert_exporter": "python",
      "pygments_lexer": "ipython3",
      "version": "3.6.6"
    }
  },
  "nbformat": 4,
  "nbformat_minor": 0
}