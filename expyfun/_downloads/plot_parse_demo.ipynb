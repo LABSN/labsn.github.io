{
  "nbformat_minor": 0, 
  "nbformat": 4, 
  "cells": [
    {
      "execution_count": null, 
      "cell_type": "code", 
      "source": [
        "%matplotlib inline"
      ], 
      "outputs": [], 
      "metadata": {
        "collapsed": false
      }
    }, 
    {
      "source": [
        "\n# Parsing demo\n\n\nThis example shows some of the functionality of ``read_tab``.\n\n"
      ], 
      "cell_type": "markdown", 
      "metadata": {}
    }, 
    {
      "execution_count": null, 
      "cell_type": "code", 
      "source": [
        "# Author: Eric Larson <larson.eric.d@gmail.com>\n#\n# License: BSD (3-clause)\n\nimport ast\n\nfrom expyfun.io import read_tab\n\nprint(__doc__)\n\n\ndata = read_tab('sample.tab')  # from simple_experiment\nprint('Number of trials: %s' % len(data))\nkeys = list(data[0].keys())\nprint('Data keys:     %s\\n' % keys)\nfor di, d in enumerate(data):\n    if d['trial_id'][0][0] == 'multi-tone':\n        print('Trial %s multi-tone' % (di + 1))\n        targs = ast.literal_eval(d['multi-tone trial'][0][0])\n        presses = [int(k[0]) for k in d['keypress']]\n        print('  Targs: %s\\n  Press: %s' % (targs, presses))"
      ], 
      "outputs": [], 
      "metadata": {
        "collapsed": false
      }
    }
  ], 
  "metadata": {
    "kernelspec": {
      "display_name": "Python 2", 
      "name": "python2", 
      "language": "python"
    }, 
    "language_info": {
      "mimetype": "text/x-python", 
      "nbconvert_exporter": "python", 
      "name": "python", 
      "file_extension": ".py", 
      "version": "2.7.11", 
      "pygments_lexer": "ipython2", 
      "codemirror_mode": {
        "version": 2, 
        "name": "ipython"
      }
    }
  }
}