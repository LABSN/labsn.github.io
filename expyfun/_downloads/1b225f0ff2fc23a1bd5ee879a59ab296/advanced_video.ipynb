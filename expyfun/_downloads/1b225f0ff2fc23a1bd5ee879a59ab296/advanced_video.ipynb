{
  "cells": [
    {
      "cell_type": "code",
      "execution_count": null,
      "metadata": {
        "collapsed": false
      },
      "outputs": [],
      "source": [
        "%matplotlib inline"
      ]
    },
    {
      "cell_type": "markdown",
      "metadata": {},
      "source": [
        "\n# Video property control\n\nThis shows how to control various properties of a video file in expyfun.\n\n@author: drmccloy\n"
      ]
    },
    {
      "cell_type": "code",
      "execution_count": null,
      "metadata": {
        "collapsed": false
      },
      "outputs": [],
      "source": [
        "import numpy as np\nfrom expyfun import (ExperimentController, fetch_data_file, building_doc,\n                     analyze as ea, visual)\n\nprint(__doc__)\n\n\nmovie_path = fetch_data_file('video/example-video.mp4')\n\nec_args = dict(exp_name='advanced video example', window_size=(720, 480),\n               full_screen=False, participant='foo', session='foo',\n               version='dev', enable_video=True, output_dir=None)\ncolors = [x for x in 'rgbcmyk']\n\nwith ExperimentController(**ec_args) as ec:\n    screen_period = 1. / ec.estimate_screen_fs()\n    all_presses = list()\n    fix = visual.FixationDot(ec)\n    text = text = visual.Text(ec, \"Running ...\", (0, -0.1), 'k')\n    screenshot = None  # don't have one yet\n    ec.load_video(movie_path)\n    ec.video.set_scale('fill')\n    ec.screen_prompt('press 1 during video to toggle pause.', max_wait=1.)\n    ec.listen_presses()  # to catch presses on first pass of while loop\n    t_zero = ec.video.play(auto_draw=False)\n    this_sec = 0.\n    while not ec.video.finished:\n        if ec.video.playing:\n            ec.video.draw()\n        else:\n            ec.screen_text('paused!', color='y', font_size=32, wrap=False)\n        text.draw()\n        fix.draw()\n        if screenshot is None:\n            screenshot = ec.screenshot()\n        fliptime = ec.flip()\n        presses = ec.get_presses(live_keys=[1], relative_to=t_zero)\n        ec.listen_presses()\n        # change the background color every 1 second\n        if this_sec != int(ec.video.time):\n            this_sec = int(ec.video.time)\n            text = visual.Text(\n                ec, str(colors[this_sec]), (0, -0.1), 'k')\n            ec.set_background_color(colors[this_sec])\n        # shrink the video, then move it rightward\n        if ec.video.playing:\n            if 1 < ec.video.time < 3:\n                ec.video.set_scale(ec.video.scale * 0.99)\n            if 4 < ec.video.time < 5:\n                ec.video.set_pos(ec.video.position + np.array((0.01, 0)))\n        # parse button presses\n        if len(presses):\n            all_presses.extend(presses)\n            if len(presses) % 2:  # if even number of presses, do nothing\n                if ec.video.playing:\n                    ec.video.pause()\n                else:\n                    ec.video.play(auto_draw=False)\n        if building_doc:\n            break\n    ec.delete_video()\n    preamble = 'press times:' if len(all_presses) else 'no presses'\n    msg = ', '.join(['{0:.3f}'.format(x[1]) for x in all_presses])\n    ec.flip()\n    ec.screen_prompt('\\n'.join([preamble, msg]), max_wait=1.)\n\nea.plot_screen(screenshot)"
      ]
    }
  ],
  "metadata": {
    "kernelspec": {
      "display_name": "Python 3",
      "language": "python",
      "name": "python3"
    },
    "language_info": {
      "codemirror_mode": {
        "name": "ipython",
        "version": 3
      },
      "file_extension": ".py",
      "mimetype": "text/x-python",
      "name": "python",
      "nbconvert_exporter": "python",
      "pygments_lexer": "ipython3",
      "version": "3.7.10"
    }
  },
  "nbformat": 4,
  "nbformat_minor": 0
}