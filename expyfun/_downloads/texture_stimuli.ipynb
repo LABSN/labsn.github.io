{
  "nbformat_minor": 0, 
  "nbformat": 4, 
  "cells": [
    {
      "execution_count": null, 
      "cell_type": "code", 
      "source": [
        "%matplotlib inline"
      ], 
      "outputs": [], 
      "metadata": {
        "collapsed": false
      }
    }, 
    {
      "source": [
        "\n# Generate texture stimuli\n\n\nThis shows how to generate texture coherence stimuli.\n\n"
      ], 
      "cell_type": "markdown", 
      "metadata": {}
    }, 
    {
      "execution_count": null, 
      "cell_type": "code", 
      "source": [
        "import numpy as np\nimport matplotlib.pyplot as plt\n\nfrom expyfun.stimuli import texture_ERB, play_sound\n\nfs = 24414\nn_freqs = 20\nn_coh = 18  # very coherent example\n\n# let's make a textured stimilus and play it\nsig = texture_ERB(n_freqs, n_coh, fs=fs, seq=('inc', 'nb', 'sam'))\nplay_sound(sig, fs, norm=True, wait=True)"
      ], 
      "outputs": [], 
      "metadata": {
        "collapsed": false
      }
    }, 
    {
      "source": [
        "Let's look at the time course\n\n"
      ], 
      "cell_type": "markdown", 
      "metadata": {}
    }, 
    {
      "execution_count": null, 
      "cell_type": "code", 
      "source": [
        "t = np.arange(len(sig)) / float(fs)\nfig, ax = plt.subplots(1)\nax.plot(t, sig.T, color='k')\nax.set(xlabel='Time (sec)', ylabel='Amplitude (normalized)', xlim=t[[0, -1]])\nfig.tight_layout()"
      ], 
      "outputs": [], 
      "metadata": {
        "collapsed": false
      }
    }, 
    {
      "source": [
        "And now the spectrogram:\n\n"
      ], 
      "cell_type": "markdown", 
      "metadata": {}
    }, 
    {
      "execution_count": null, 
      "cell_type": "code", 
      "source": [
        "fig, ax = plt.subplots(1, figsize=(8, 2))\nimg = ax.specgram(sig, NFFT=1024, Fs=fs, noverlap=800)[3]\nimg.set_clim([img.get_clim()[1] - 50, img.get_clim()[1]])\nax.set(xlim=t[[0, -1]], ylim=[0, 10000], xlabel='Time (sec)',\n       ylabel='Freq (Hz)')\nfig.tight_layout()"
      ], 
      "outputs": [], 
      "metadata": {
        "collapsed": false
      }
    }, 
    {
      "source": [
        "And the long-term spectrum:\n\n"
      ], 
      "cell_type": "markdown", 
      "metadata": {}
    }, 
    {
      "execution_count": null, 
      "cell_type": "code", 
      "source": [
        "fig, ax = plt.subplots(1)\nax.psd(sig, NFFT=16384, Fs=fs, color='k')\nxticks = [250, 500, 1000, 2000, 4000, 8000]\nax.set(xlabel='Frequency (Hz)', ylabel='Power (dB)', xlim=[100, 10000],\n       xscale='log')\nax.set(xticks=xticks)\nax.set(xticklabels=xticks)\nfig.tight_layout()"
      ], 
      "outputs": [], 
      "metadata": {
        "collapsed": false
      }
    }
  ], 
  "metadata": {
    "kernelspec": {
      "display_name": "Python 2", 
      "name": "python2", 
      "language": "python"
    }, 
    "language_info": {
      "mimetype": "text/x-python", 
      "nbconvert_exporter": "python", 
      "name": "python", 
      "file_extension": ".py", 
      "version": "2.7.14", 
      "pygments_lexer": "ipython2", 
      "codemirror_mode": {
        "version": 2, 
        "name": "ipython"
      }
    }
  }
}