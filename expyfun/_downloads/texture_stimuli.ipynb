{
  "cells": [
    {
      "cell_type": "code",
      "execution_count": null,
      "metadata": {
        "collapsed": false
      },
      "outputs": [],
      "source": [
        "%matplotlib inline"
      ]
    },
    {
      "cell_type": "markdown",
      "metadata": {},
      "source": [
        "\n# Generate texture stimuli\n\n\nThis shows how to generate texture coherence stimuli.\n\n"
      ]
    },
    {
      "cell_type": "code",
      "execution_count": null,
      "metadata": {
        "collapsed": false
      },
      "outputs": [],
      "source": [
        "import numpy as np\nimport matplotlib.pyplot as plt\n\nfrom expyfun.stimuli import texture_ERB, play_sound\n\nfs = 24414\nn_freqs = 20\nn_coh = 18  # very coherent example\n\n# let's make a textured stimilus and play it\nsig = texture_ERB(n_freqs, n_coh, fs=fs, seq=('inc', 'nb', 'sam'))\nplay_sound(sig, fs, norm=True, wait=True)"
      ]
    },
    {
      "cell_type": "markdown",
      "metadata": {},
      "source": [
        "Let's look at the time course\n\n"
      ]
    },
    {
      "cell_type": "code",
      "execution_count": null,
      "metadata": {
        "collapsed": false
      },
      "outputs": [],
      "source": [
        "t = np.arange(len(sig)) / float(fs)\nfig, ax = plt.subplots(1)\nax.plot(t, sig.T, color='k')\nax.set(xlabel='Time (sec)', ylabel='Amplitude (normalized)', xlim=t[[0, -1]])\nfig.tight_layout()"
      ]
    },
    {
      "cell_type": "markdown",
      "metadata": {},
      "source": [
        "And now the spectrogram:\n\n"
      ]
    },
    {
      "cell_type": "code",
      "execution_count": null,
      "metadata": {
        "collapsed": false
      },
      "outputs": [],
      "source": [
        "fig, ax = plt.subplots(1, figsize=(8, 2))\nimg = ax.specgram(sig, NFFT=1024, Fs=fs, noverlap=800)[3]\nimg.set_clim([img.get_clim()[1] - 50, img.get_clim()[1]])\nax.set(xlim=t[[0, -1]], ylim=[0, 10000], xlabel='Time (sec)',\n       ylabel='Freq (Hz)')\nfig.tight_layout()"
      ]
    },
    {
      "cell_type": "markdown",
      "metadata": {},
      "source": [
        "And the long-term spectrum:\n\n"
      ]
    },
    {
      "cell_type": "code",
      "execution_count": null,
      "metadata": {
        "collapsed": false
      },
      "outputs": [],
      "source": [
        "fig, ax = plt.subplots(1)\nax.psd(sig, NFFT=16384, Fs=fs, color='k')\nxticks = [250, 500, 1000, 2000, 4000, 8000]\nax.set(xlabel='Frequency (Hz)', ylabel='Power (dB)', xlim=[100, 10000],\n       xscale='log')\nax.set(xticks=xticks)\nax.set(xticklabels=xticks)\nfig.tight_layout()"
      ]
    }
  ],
  "metadata": {
    "kernelspec": {
      "display_name": "Python 3",
      "language": "python",
      "name": "python3"
    },
    "language_info": {
      "codemirror_mode": {
        "name": "ipython",
        "version": 3
      },
      "file_extension": ".py",
      "mimetype": "text/x-python",
      "name": "python",
      "nbconvert_exporter": "python",
      "pygments_lexer": "ipython3",
      "version": "3.6.5"
    }
  },
  "nbformat": 4,
  "nbformat_minor": 0
}