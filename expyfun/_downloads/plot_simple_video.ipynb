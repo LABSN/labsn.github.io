{
  "nbformat_minor": 0, 
  "nbformat": 4, 
  "cells": [
    {
      "execution_count": null, 
      "cell_type": "code", 
      "source": [
        "%matplotlib inline"
      ], 
      "outputs": [], 
      "metadata": {
        "collapsed": false
      }
    }, 
    {
      "source": [
        "\n# Play sample video file\n\n\nThis shows how to play a video file in expyfun. It requires that AVbin has\nalready been installed.\n\n@author: drmccloy\n\n"
      ], 
      "cell_type": "markdown", 
      "metadata": {}
    }, 
    {
      "execution_count": null, 
      "cell_type": "code", 
      "source": [
        "from expyfun import (ExperimentController, fetch_data_file, analyze as ea,\n                     building_doc)\n\nprint(__doc__)\n\nmovie_path = fetch_data_file('video/example-video.mp4')\n\nec_args = dict(exp_name='simple video example', window_size=(720, 480),\n               full_screen=False, participant='foo', session='foo',\n               version='dev', enable_video=True, output_dir=None)\n\nwith ExperimentController(**ec_args) as ec:\n    ec.load_video(movie_path)\n    ec.video.set_scale('fit')\n    t_zero = ec.video.play()\n    while not ec.video.finished:\n        if ec.video.playing:\n            fliptime = ec.flip()\n        screenshot = ec.screenshot()\n        if building_doc:\n            break\n    ec.delete_video()\n    ec.flip()\n    ec.screen_prompt('video over', max_wait=1.)\n\nea.plot_screen(screenshot)"
      ], 
      "outputs": [], 
      "metadata": {
        "collapsed": false
      }
    }
  ], 
  "metadata": {
    "kernelspec": {
      "display_name": "Python 2", 
      "name": "python2", 
      "language": "python"
    }, 
    "language_info": {
      "mimetype": "text/x-python", 
      "nbconvert_exporter": "python", 
      "name": "python", 
      "file_extension": ".py", 
      "version": "2.7.11", 
      "pygments_lexer": "ipython2", 
      "codemirror_mode": {
        "version": 2, 
        "name": "ipython"
      }
    }
  }
}