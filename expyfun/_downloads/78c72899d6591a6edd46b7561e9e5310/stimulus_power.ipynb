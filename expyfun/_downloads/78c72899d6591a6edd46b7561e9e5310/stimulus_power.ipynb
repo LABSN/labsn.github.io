{
  "cells": [
    {
      "cell_type": "code",
      "execution_count": null,
      "metadata": {
        "collapsed": false
      },
      "outputs": [],
      "source": [
        "%matplotlib inline"
      ]
    },
    {
      "cell_type": "markdown",
      "metadata": {},
      "source": [
        "\n# Examine and manipulate stimulus power\n\nThis shows how to make stimuli that play at different SNRs and db SPL.\n"
      ]
    },
    {
      "cell_type": "code",
      "execution_count": null,
      "metadata": {
        "collapsed": false
      },
      "outputs": [],
      "source": [
        "import numpy as np\nimport matplotlib.pyplot as plt\n\nfrom expyfun.stimuli import window_edges, read_wav, rms\nfrom expyfun import fetch_data_file\n\nprint(__doc__)"
      ]
    },
    {
      "cell_type": "markdown",
      "metadata": {},
      "source": [
        "## Load data\nGet 2 seconds of data\n\n"
      ]
    },
    {
      "cell_type": "code",
      "execution_count": null,
      "metadata": {
        "collapsed": false
      },
      "outputs": [],
      "source": [
        "data_orig, fs = read_wav(fetch_data_file('audio/dream.wav'))\nstop = int(round(fs * 2))\ndata_orig = window_edges(data_orig[0, :stop], fs)\nt = np.arange(data_orig.size) / float(fs)\n\n# look at the waveform\nfig, ax = plt.subplots()\nax.plot(t, data_orig)\nax.set(xlabel='Time (sec)', ylabel='Amplitude', title='Original',\n       xlim=t[[0, -1]])\nfig.tight_layout()"
      ]
    },
    {
      "cell_type": "markdown",
      "metadata": {},
      "source": [
        "## Normalize it\n:class:`expyfun.ExperimentController` by default has ``stim_rms=0.01``. This\nmeans that audio samples normalized to an RMS (root-mean-square) value of\n0.01 will play out at whatever ``stim_db`` value you supply (during class\ninitialization) when the experiment is deployed on properly calibrated\nhardware, typically in an experimental booth. So let's normalize our clip:\n\n"
      ]
    },
    {
      "cell_type": "code",
      "execution_count": null,
      "metadata": {
        "collapsed": false
      },
      "outputs": [],
      "source": [
        "print(rms(data_orig))\ntarget = data_orig / rms(data_orig)\ntarget *= 0.01\n# do manual calculation same as ``rms``, result should be 0.01\n# (to numerical precision)\nprint(np.sqrt(np.mean(target ** 2)))"
      ]
    },
    {
      "cell_type": "markdown",
      "metadata": {},
      "source": [
        "One important thing to note about this stimulus is that its long-term RMS\n(over the entire 2 seconds) is now 0.01. There will be quiet parts where the\nRMS is effectively lower (close to zero) and louder parts where it's bigger.\n\n## Add some noise\nNow let's add some masker noise, say 6 dB down (6 dB target-to-masker ratio;\nTMR) from that of the target.\n\n<div class=\"alert alert-info\"><h4>Note</h4><p>White noise is used here just as an example. If you want continuous\n    white background noise in your experiment, consider using\n    :meth:`ec.start_noise() <expyfun.ExperimentController.start_noise>`\n    and/or\n    :meth:`ec.set_noise_db() <expyfun.ExperimentController.set_noise_db>`\n    which will automatically keep background noise continuously playing\n    during your experiment.</p></div>\n\n"
      ]
    },
    {
      "cell_type": "code",
      "execution_count": null,
      "metadata": {
        "collapsed": false
      },
      "outputs": [],
      "source": [
        "# Good idea to use a seed for reproducibility!\nratio_dB = -6.  # dB\nrng = np.random.RandomState(0)\nmasker = rng.randn(len(target))\nmasker /= rms(masker)  # now has unit RMS\nmasker *= 0.01  # now has RMS=0.01, same as target\nratio_amplitude = 10 ** (ratio_dB / 20.)  # conversion from dB to amplitude\nmasker *= ratio_amplitude"
      ]
    },
    {
      "cell_type": "markdown",
      "metadata": {},
      "source": [
        "Looking at the overlaid traces, you can see that the resulting SNR varies as\na function of time.\n\n"
      ]
    },
    {
      "cell_type": "code",
      "execution_count": null,
      "metadata": {
        "collapsed": false
      },
      "outputs": [],
      "source": [
        "colors = ['#4477AA', '#EE7733']\nfig, ax = plt.subplots()\nax.plot(t, target, label='target', alpha=0.5, color=colors[0], lw=0.5)\nax.plot(t, masker, label='masker', alpha=0.5, color=colors[1], lw=0.5)\nax.axhline(0.01, label='target RMS', color=colors[0], lw=1)\nax.axhline(0.01 * ratio_amplitude, label='masker RMS', color=colors[1], lw=1)\nax.set(xlabel='Time (sec)', ylabel='Amplitude', title='Calibrated',\n       xlim=t[[0, -1]])\nax.legend()\nfig.tight_layout()"
      ]
    },
    {
      "cell_type": "markdown",
      "metadata": {},
      "source": [
        "## Examine spectra\nWe can also look at the spectra of these stimuli to get a sense of how the\nSNR varies as a function of frequency.\n\n"
      ]
    },
    {
      "cell_type": "code",
      "execution_count": null,
      "metadata": {
        "collapsed": false
      },
      "outputs": [],
      "source": [
        "from scipy.fft import rfft, rfftfreq  # noqa\nf = rfftfreq(len(target), 1. / fs)\nT = np.abs(rfft(target)) / np.sqrt(len(target))  # normalize the FFT properly\nM = np.abs(rfft(masker)) / np.sqrt(len(target))\nfig, ax = plt.subplots()\nax.plot(f, T, label='target', alpha=0.5, color=colors[0], lw=0.5)\nax.plot(f, M, label='masker', alpha=0.5, color=colors[1], lw=0.5)\nT_rms = rms(T)\nM_rms = rms(M)\nprint('Parseval\\'s theorem: target RMS still %s' % (T_rms,))\nprint('dB TMR is still %s' % (20 * np.log10(T_rms / M_rms),))\nax.axhline(T_rms, label='target RMS', color=colors[0], lw=1)\nax.axhline(M_rms, label='masker RMS', color=colors[1], lw=1)\nax.set(xlabel='Freq (Hz)', ylabel='Amplitude', title='Spectrum',\n       xlim=f[[0, -1]])\nax.legend()\nfig.tight_layout()"
      ]
    }
  ],
  "metadata": {
    "kernelspec": {
      "display_name": "Python 3",
      "language": "python",
      "name": "python3"
    },
    "language_info": {
      "codemirror_mode": {
        "name": "ipython",
        "version": 3
      },
      "file_extension": ".py",
      "mimetype": "text/x-python",
      "name": "python",
      "nbconvert_exporter": "python",
      "pygments_lexer": "ipython3",
      "version": "3.7.10"
    }
  },
  "nbformat": 4,
  "nbformat_minor": 0
}