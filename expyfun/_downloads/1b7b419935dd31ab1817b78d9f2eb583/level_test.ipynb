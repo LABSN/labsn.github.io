{
  "cells": [
    {
      "cell_type": "markdown",
      "metadata": {},
      "source": [
        "\n# Sound level test and visual size calibration\n\nThis example tests the audio level and video size. For audio, it produces an 80\ndb SPL 1000 Hz tone (note that at 1000 Hz, the frequency weighting for SPL\nmeasurement shouldn't matter). For video, it produces a square that should be\n10 degrees visual angle and tells you what the physical width should be in cm.\nThis of course depends on correct settings for monitor width, resolution, and\ndistance.\n"
      ]
    },
    {
      "cell_type": "code",
      "execution_count": null,
      "metadata": {
        "collapsed": false
      },
      "outputs": [],
      "source": [
        "# Author: Ross Maddox <rkmaddox@uw.edu>\n#\n# License: BSD (3-clause)\n\nimport numpy as np\n\nimport expyfun.analyze as ea\nfrom expyfun import ExperimentController, building_doc\nfrom expyfun.visual import Rectangle\n\nprint(__doc__)\n\n\nwith ExperimentController(\n    \"LevelTest\",\n    full_screen=True,\n    noise_db=-np.inf,\n    participant=\"s\",\n    session=\"0\",\n    output_dir=None,\n    suppress_resamp=True,\n    check_rms=None,\n    stim_db=80,\n    version=\"dev\",\n) as ec:\n    tone = (\n        0.01 * np.sqrt(2.0) * np.sin(2 * np.pi * 1000.0 * np.arange(0, 10, 1.0 / ec.fs))\n    )\n    assert np.allclose(np.sqrt(np.mean(tone * tone)), 0.01)\n    square = Rectangle(ec, (0, 0, 10, 10), units=\"deg\", fill_color=\"r\")\n    cm = (\n        np.diff(ec._convert_units([[0, 5], [0, 5]], \"deg\", \"pix\"), axis=-1)[0]\n        / ec.dpi\n        / 0.39370\n    )\n    ec.load_buffer(tone)  # RMS == 0.01\n    pressed = None\n    screenshot = None\n    while pressed != \"8\":  # enable a clean quit if required\n        square.draw()\n        ec.screen_text(f\"Width: {np.round(2 * cm, 1)} cm\", wrap=False)\n        ec.screen_text(f\"Output level: {ec.stim_db} dB\", wrap=True)\n        screenshot = ec.screenshot() if screenshot is None else screenshot\n        t1 = ec.start_stimulus(start_of_trial=False)  # skip checks\n        pressed = ec.wait_one_press(10)[0] if not building_doc else \"8\"\n        ec.flip()\n        ec.wait_one_press(0.5 if not building_doc else 0.0)\n        ec.stop()\n\nea.plot_screen(screenshot)"
      ]
    }
  ],
  "metadata": {
    "kernelspec": {
      "display_name": "Python 3",
      "language": "python",
      "name": "python3"
    },
    "language_info": {
      "codemirror_mode": {
        "name": "ipython",
        "version": 3
      },
      "file_extension": ".py",
      "mimetype": "text/x-python",
      "name": "python",
      "nbconvert_exporter": "python",
      "pygments_lexer": "ipython3",
      "version": "3.10.12"
    }
  },
  "nbformat": 4,
  "nbformat_minor": 0
}