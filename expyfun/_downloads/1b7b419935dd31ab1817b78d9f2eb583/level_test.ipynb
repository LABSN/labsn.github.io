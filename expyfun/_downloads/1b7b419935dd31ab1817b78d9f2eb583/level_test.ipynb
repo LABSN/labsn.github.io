{
  "cells": [
    {
      "cell_type": "code",
      "execution_count": null,
      "metadata": {
        "collapsed": false
      },
      "outputs": [],
      "source": [
        "%matplotlib inline"
      ]
    },
    {
      "cell_type": "markdown",
      "metadata": {},
      "source": [
        "\n# Sound level test and visual size calibration\n\nThis example tests the audio level and video size. For audio, it produces an 80\ndb SPL 1000 Hz tone (note that at 1000 Hz, the frequency weighting for SPL\nmeasurement shouldn't matter). For video, it produces a square that should be\n10 degrees visual angle and tells you what the physical width should be in cm.\nThis of course depends on correct settings for monitor width, resolution, and\ndistance.\n"
      ]
    },
    {
      "cell_type": "code",
      "execution_count": null,
      "metadata": {
        "collapsed": false
      },
      "outputs": [],
      "source": [
        "# Author: Ross Maddox <rkmaddox@uw.edu>\n#\n# License: BSD (3-clause)\n\nimport numpy as np\n\nfrom expyfun import ExperimentController, building_doc\nfrom expyfun.visual import Rectangle\nimport expyfun.analyze as ea\n\nprint(__doc__)\n\n\nwith ExperimentController('LevelTest', full_screen=True, noise_db=-np.inf,\n                          participant='s', session='0', output_dir=None,\n                          suppress_resamp=True, check_rms=None,\n                          stim_db=80, version='dev') as ec:\n    tone = (0.01 * np.sqrt(2.) *\n            np.sin(2 * np.pi * 1000. * np.arange(0, 10, 1. / ec.fs)))\n    assert np.allclose(np.sqrt(np.mean(tone * tone)), 0.01)\n    square = Rectangle(ec, (0, 0, 10, 10), units='deg', fill_color='r')\n    cm = np.diff(ec._convert_units([[0, 5], [0, 5]], 'deg', 'pix'),\n                 axis=-1)[0] / ec.dpi / 0.39370\n    ec.load_buffer(tone)  # RMS == 0.01\n    pressed = None\n    screenshot = None\n    while pressed != '8':  # enable a clean quit if required\n        square.draw()\n        ec.screen_text('Width: {} cm'.format(np.round(2 * cm, 1)), wrap=False)\n        ec.screen_text('Output level: {} dB'.format(ec.stim_db), wrap=True)\n        screenshot = ec.screenshot() if screenshot is None else screenshot\n        t1 = ec.start_stimulus(start_of_trial=False)  # skip checks\n        pressed = ec.wait_one_press(10)[0] if not building_doc else '8'\n        ec.flip()\n        ec.wait_one_press(0.5 if not building_doc else 0.)\n        ec.stop()\n\nea.plot_screen(screenshot)"
      ]
    }
  ],
  "metadata": {
    "kernelspec": {
      "display_name": "Python 3",
      "language": "python",
      "name": "python3"
    },
    "language_info": {
      "codemirror_mode": {
        "name": "ipython",
        "version": 3
      },
      "file_extension": ".py",
      "mimetype": "text/x-python",
      "name": "python",
      "nbconvert_exporter": "python",
      "pygments_lexer": "ipython3",
      "version": "3.8.5"
    }
  },
  "nbformat": 4,
  "nbformat_minor": 0
}