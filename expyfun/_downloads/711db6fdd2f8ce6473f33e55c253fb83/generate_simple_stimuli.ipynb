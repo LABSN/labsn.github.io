{
  "cells": [
    {
      "cell_type": "code",
      "execution_count": null,
      "metadata": {
        "collapsed": false
      },
      "outputs": [],
      "source": [
        "%matplotlib inline"
      ]
    },
    {
      "cell_type": "markdown",
      "metadata": {},
      "source": [
        "\n# Generate sample stimuli\n\n\nThis shows how to generate some simple stimuli. It will also play a couple\nof sample stimuli.\n\n"
      ]
    },
    {
      "cell_type": "code",
      "execution_count": null,
      "metadata": {
        "collapsed": false
      },
      "outputs": [],
      "source": [
        "from os import path as op\nimport numpy as np\nimport matplotlib.pyplot as plt\n\nfrom expyfun.io import write_hdf5, write_wav\nfrom expyfun.stimuli import play_sound\n\nprint(__doc__)\n\n\ndef generate_stimuli(num_trials=10, num_freqs=4, stim_dur=0.5, min_freq=500.0,\n                     max_freq=4000.0, fs=24414.0625, rms=0.01, output_dir='.',\n                     save_as='hdf5', rand_seed=0):\n    \"\"\"Make some sine waves and save in various formats. Optimized for saving\n    as MAT files, but can also save directly as WAV files, or can return a\n    python dictionary with sinewave data as values.\n\n    Parameters\n    ----------\n    num_trials : int\n        Number of trials you want in your experiment. Ignored if save_as is\n        not 'mat'.\n    num_freqs : int\n        Number of frequencies (equally-spaced on a log2-scale) at which to\n        generate tones.\n    stim_dur : float\n        Duration of the tones in seconds.\n    min_freq : float\n        Frequency of the lowest tone in Hertz.\n    max_freq : float\n        Frequency of the highest tone in Hertz.\n    fs : float | None\n        Sampling frequency of resulting sinewaves.  Defaults to 24414.0625 (a\n        standard rate for TDTs).\n    rms : float\n        RMS amplitude to which all sinwaves will be scaled.\n    output_dir : str\n        Directory to output the files into.\n    save_as : str | None\n        Format in which to return the sinewaves. 'dict' returns sinewave arrays\n        as values in a python dictionary; 'wav' saves them as WAV files at\n        sampling frequency 'fs'; 'mat' saves them as a MAT file along with\n        related variables 'fs', 'freqs', 'trial_order', and 'rms'.\n        None will not save any data.\n    rand_seed : int | None\n        Seed for the random number generator.\n\n    Returns\n    -------\n    wavs : dict | None\n        The stimulus dictionary.\n    \"\"\"\n    if rand_seed is None:\n        rng = np.random.RandomState()\n    else:\n        rng = np.random.RandomState(rand_seed)\n\n    # check input arguments\n    if save_as is not None and save_as not in ['dict', 'wav', 'hdf5']:\n        raise ValueError('\"save_as\" must be \"dict\", \"wav\", or \"hdf5\"')\n\n    fs = float(fs)\n    t = np.arange(np.round(stim_dur * fs)) / fs\n\n    # frequencies equally spaced on a log-2 scale\n    freqs = min_freq * np.logspace(0, np.log2(max_freq / float(min_freq)),\n                                   num_freqs, endpoint=True, base=2)\n\n    # strings for the filenames / dictionary keys\n    freq_names = [str(int(f)) for f in freqs]\n    names = ['stim_%s_%s' % (n, f) for n, f in enumerate(freq_names)]\n\n    # generate sinewaves & RMS normalize\n    wavs = [np.sin(2 * np.pi * f * t) for f in freqs]\n    wavs = [rms / np.sqrt(np.mean(w ** 2)) * w for w in wavs]\n\n    # collect into dictionary & save\n    wav_dict = {n: w for (n, w) in zip(names, wavs)}\n    if save_as == 'hdf5':\n        num_reps = num_trials // num_freqs + 1\n        trials = np.tile(range(num_freqs), num_reps)\n        trial_order = rng.permutation(trials[0:num_trials])\n        wav_dict.update({'trial_order': trial_order, 'freqs': freqs, 'fs': fs,\n                         'rms': rms})\n        write_hdf5(op.join(output_dir, 'equally_spaced_sinewaves.hdf5'),\n                   wav_dict, overwrite=True)\n    elif save_as == 'wav':\n        for n in names:\n            write_wav(op.join(output_dir, n + '.wav'), wav_dict[n], int(fs))\n    return wav_dict\n\n\nif __name__ == '__main__':\n    wav_dict = generate_stimuli(save_as=None)\n    plt.plot(wav_dict['stim_0_500'][:1000])\n    play_sound(wav_dict['stim_0_500'])\n    plt.show()"
      ]
    }
  ],
  "metadata": {
    "kernelspec": {
      "display_name": "Python 3",
      "language": "python",
      "name": "python3"
    },
    "language_info": {
      "codemirror_mode": {
        "name": "ipython",
        "version": 3
      },
      "file_extension": ".py",
      "mimetype": "text/x-python",
      "name": "python",
      "nbconvert_exporter": "python",
      "pygments_lexer": "ipython3",
      "version": "3.6.8"
    }
  },
  "nbformat": 4,
  "nbformat_minor": 0
}