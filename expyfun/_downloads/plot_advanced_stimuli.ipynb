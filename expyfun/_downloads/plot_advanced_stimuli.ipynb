{
  "nbformat_minor": 0, 
  "nbformat": 4, 
  "cells": [
    {
      "execution_count": null, 
      "cell_type": "code", 
      "source": [
        "%matplotlib inline"
      ], 
      "outputs": [], 
      "metadata": {
        "collapsed": false
      }
    }, 
    {
      "source": [
        "\n# Generate more advanced auditory stimuli\n\n\nThis shows the methods that we provide that facilitate generation\nof more advanced stimuli.\n\n"
      ], 
      "cell_type": "markdown", 
      "metadata": {}
    }, 
    {
      "execution_count": null, 
      "cell_type": "code", 
      "source": [
        "import numpy as np\nimport matplotlib.pyplot as plt\n\nfrom expyfun import building_doc\nfrom expyfun.stimuli import convolve_hrtf, play_sound, window_edges\n\nfs = 24414\ndur = 0.5\nfreq = 500.\n# let's make a square wave\nsig = np.sin(freq * 2 * np.pi * np.arange(dur * fs, dtype=float) / fs)\nsig = ((sig > 0) - 0.5) / 5.  # make it reasonably quiet for play_sound\nsig = window_edges(sig, fs)\n\nplay_sound(sig, fs, norm=False, wait=True)\n\nmove_sig = np.concatenate([convolve_hrtf(sig, fs, ang)\n                           for ang in range(-90, 91, 15)], axis=1)\nif not building_doc:\n    play_sound(move_sig, fs, norm=False, wait=True)\n\nt = np.arange(move_sig.shape[1]) / float(fs)\nplt.plot(t, move_sig.T)\nplt.xlabel('Time (sec)')\nplt.show()"
      ], 
      "outputs": [], 
      "metadata": {
        "collapsed": false
      }
    }
  ], 
  "metadata": {
    "kernelspec": {
      "display_name": "Python 2", 
      "name": "python2", 
      "language": "python"
    }, 
    "language_info": {
      "mimetype": "text/x-python", 
      "nbconvert_exporter": "python", 
      "name": "python", 
      "file_extension": ".py", 
      "version": "2.7.12", 
      "pygments_lexer": "ipython2", 
      "codemirror_mode": {
        "version": 2, 
        "name": "ipython"
      }
    }
  }
}