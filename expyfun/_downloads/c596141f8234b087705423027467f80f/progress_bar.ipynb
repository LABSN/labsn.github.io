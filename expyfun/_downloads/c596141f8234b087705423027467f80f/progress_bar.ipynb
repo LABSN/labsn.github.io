{
  "cells": [
    {
      "cell_type": "markdown",
      "metadata": {},
      "source": [
        "\n# ProgressBar demo\n\nThis example shows how to display progress between trials using\n:class:`expyfun.visual.ProgressBar`.\n"
      ]
    },
    {
      "cell_type": "code",
      "execution_count": null,
      "metadata": {
        "collapsed": false
      },
      "outputs": [],
      "source": [
        "from expyfun import ExperimentController, building_doc\nfrom expyfun.visual import ProgressBar\nimport expyfun.analyze as ea\nimport numpy as np\n\nn_trials = 6\nmax_wait = 0.1 if building_doc else np.inf\nwait_dur = 0.1 if building_doc else 0.5\n\nwith ExperimentController('name', version='dev', window_size=[800, 600],\n                          full_screen=False, session='foo',\n                          participant='foo') as ec:\n\n    # initialize the progress bar\n    pb = ProgressBar(ec, [0, -.1, 1.5, .1], units='norm')\n\n    ec.screen_prompt('Press the number shown on the screen. Start by pressing'\n                     ' 1.', font_size=16, live_keys=[1], max_wait=max_wait)\n\n    for n in np.arange(n_trials) + 1:\n        # subject does some task\n        number = np.random.randint(1, 5)\n        ec.screen_text(str(number), wrap=False)\n        ec.flip()\n        ec.wait_one_press(live_keys=[number], max_wait=max_wait)\n        ec.flip()\n        ec.wait_secs(wait_dur)\n        # only show progress bar every other trial\n        if n % 2 == 0:\n            # calculate percent done and update the bar object\n            percent = int(n * 100 / n_trials)\n            pb.update_bar(percent)\n            # display the progress bar with some text\n            ec.screen_text('You\\'ve completed {} %. Press any key to proceed.'\n                           ''.format(percent), [0, .1], wrap=False,\n                           font_size=16)\n            pb.draw()\n            if n == 4:\n                screenshot = ec.screenshot()\n            ec.flip()\n            # subject uses any key press to proceed\n            ec.wait_one_press(max_wait=max_wait)\n    ec.screen_text('This example is complete.')\n    ec.flip()\n    ec.wait_secs(1)\n\nea.plot_screen(screenshot)"
      ]
    }
  ],
  "metadata": {
    "kernelspec": {
      "display_name": "Python 3",
      "language": "python",
      "name": "python3"
    },
    "language_info": {
      "codemirror_mode": {
        "name": "ipython",
        "version": 3
      },
      "file_extension": ".py",
      "mimetype": "text/x-python",
      "name": "python",
      "nbconvert_exporter": "python",
      "pygments_lexer": "ipython3",
      "version": "3.10.6"
    }
  },
  "nbformat": 4,
  "nbformat_minor": 0
}