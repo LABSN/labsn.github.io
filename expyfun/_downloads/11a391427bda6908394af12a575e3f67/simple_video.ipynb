{
  "cells": [
    {
      "cell_type": "markdown",
      "metadata": {},
      "source": [
        "\n# Video playing made simple\n\nThis shows how to play a video file in expyfun. It requires that FFmpeg\n(for Pyglet >= 1.4) or AVBin (otherwise) has already been installed.\n\n@author: drmccloy\n"
      ]
    },
    {
      "cell_type": "code",
      "execution_count": null,
      "metadata": {
        "collapsed": false
      },
      "outputs": [],
      "source": [
        "from expyfun import (ExperimentController, fetch_data_file, analyze as ea,\n                     building_doc)\n\nprint(__doc__)\n\nmovie_path = fetch_data_file('video/example-video.mp4')\n\nec_args = dict(exp_name='simple video example', window_size=(720, 480),\n               full_screen=False, participant='foo', session='foo',\n               version='dev', output_dir=None)\nscreenshot = None\n\nwith ExperimentController(**ec_args) as ec:\n    ec.load_video(movie_path)\n    ec.video.set_scale('fit')\n    t_zero = ec.video.play()\n    while not ec.video.finished:\n        if ec.video.playing:\n            fliptime = ec.flip()\n        if screenshot is None:\n            screenshot = ec.screenshot()\n        if building_doc:\n            break\n        ec.check_force_quit()\n    ec.delete_video()\n    ec.flip()\n    ec.screen_prompt('video over', max_wait=1.)\n\nea.plot_screen(screenshot)"
      ]
    }
  ],
  "metadata": {
    "kernelspec": {
      "display_name": "Python 3",
      "language": "python",
      "name": "python3"
    },
    "language_info": {
      "codemirror_mode": {
        "name": "ipython",
        "version": 3
      },
      "file_extension": ".py",
      "mimetype": "text/x-python",
      "name": "python",
      "nbconvert_exporter": "python",
      "pygments_lexer": "ipython3",
      "version": "3.10.6"
    }
  },
  "nbformat": 4,
  "nbformat_minor": 0
}