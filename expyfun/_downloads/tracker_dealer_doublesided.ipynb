{
  "nbformat_minor": 0, 
  "nbformat": 4, 
  "cells": [
    {
      "execution_count": null, 
      "cell_type": "code", 
      "source": [
        "%matplotlib inline"
      ], 
      "outputs": [], 
      "metadata": {
        "collapsed": false
      }
    }, 
    {
      "source": [
        "\n# Adaptive tracking from above and below\n\n\nThis file shows how to interleave multiple Tracker objects using\n:class:`expyfun.stimuli.TrackerDealer` to simultaneously approach a threshold\nfrom both above and below.\n\n@author: maddycapp27\n\n"
      ], 
      "cell_type": "markdown", 
      "metadata": {}
    }, 
    {
      "execution_count": null, 
      "cell_type": "code", 
      "source": [
        "import numpy as np\nfrom expyfun.stimuli import TrackerUD, TrackerDealer\nfrom expyfun.analyze import sigmoid\nimport matplotlib.pyplot as plt\n\n# define parameters of modeled subject (using sigmoid probability)\ntrue_thresh = 30  # true thresholds for trial types 1 and 2\nslope = 0.1\nchance = 0.5"
      ], 
      "outputs": [], 
      "metadata": {
        "collapsed": false
      }
    }, 
    {
      "source": [
        "Defining Tracker Parameters\n---------------------------\nIn this example, the tracker parameters are the same for each instance of\nthe up-down adaptive tracker except for the start value. Each start value in\nthe list will be given to a different tracker. The other parameters are\ndefined such that the step sizes vary for both up v. down (the up step size\nis larger by a factor of 3) and based on the number of reversals (the first\nelement in each list is the step size until the number of reversals dictated\nby the second element in change_criteria have occured (i.e. the up step size\nwill be 9 until 5 reversals have occured, then the up step size will be 3.))\n\n"
      ], 
      "cell_type": "markdown", 
      "metadata": {}
    }, 
    {
      "execution_count": null, 
      "cell_type": "code", 
      "source": [
        "up = 1\ndown = 1\nstep_size_up = [9, 3]\nstep_size_down = [3, 1]\nstop_reversals = 30\nstop_trials = np.inf\nstart_value = [15, 45]\nchange_indices = [5]\nchange_rule = 'reversals'\nx_min = 0\nx_max = 90\n\n\n# callback function that prints to console\ndef callback(event_type, value=None, timestamp=None):\n    print((str(event_type) + ':').ljust(40) + str(value))\n\n\n# parameters for the tracker dealer\nmax_lag = 2\npace_rule = 'reversals'\nrng_dealer = np.random.RandomState(4)  # random seed for selecting trial type"
      ], 
      "outputs": [], 
      "metadata": {
        "collapsed": false
      }
    }, 
    {
      "source": [
        "Initializing and Running Trackers\n---------------------------------\nThe two trackers in this example use all of the same parameters except for\nthe start value and then are passed into the dealer. After the dealer is\ncreated, the type of trial with the start value above or below the true\nthreshold (returned as an index) and trial level for that trial can be\nacquired.\n\n"
      ], 
      "cell_type": "markdown", 
      "metadata": {}
    }, 
    {
      "execution_count": null, 
      "cell_type": "code", 
      "source": [
        "# initialize two tracker objects--one for each start value\ntr_ud = [TrackerUD(callback, up, down, step_size_up, step_size_down,\n                   stop_reversals, stop_trials, sv, change_indices,\n                   change_rule, x_min, x_max) for sv in start_value]\n\n# initialize TrackerDealer object\ntd = TrackerDealer(callback, tr_ud, max_lag, pace_rule, rng_dealer)\n\n# Initialize human state\nrng_human = np.random.RandomState(1)  # random seed for modeled subject\n\nfor _, level in td:\n    # Get information of which trial type is next and what the level is at\n    # that time from TrackerDealer\n    td.respond(rng_human.rand() < sigmoid(level - true_thresh,\n                                          lower=chance, slope=slope))"
      ], 
      "outputs": [], 
      "metadata": {
        "collapsed": false
      }
    }, 
    {
      "source": [
        "Plotting the Results\n---------------------------\n\n"
      ], 
      "cell_type": "markdown", 
      "metadata": {}
    }, 
    {
      "execution_count": null, 
      "cell_type": "code", 
      "source": [
        "axes = plt.subplots(2, 1)[1]\nfor i in [0, 1]:\n    fig, ax, lines = td.trackers.ravel()[i].plot(ax=axes[i], n_skip=4)\n\n    ax.legend(loc='best')\n    ax.set_title('Adaptive track with start value {} (true threshold '\n                 'is {})'.format(start_value[i], true_thresh))\n    fig.tight_layout()"
      ], 
      "outputs": [], 
      "metadata": {
        "collapsed": false
      }
    }
  ], 
  "metadata": {
    "kernelspec": {
      "display_name": "Python 2", 
      "name": "python2", 
      "language": "python"
    }, 
    "language_info": {
      "mimetype": "text/x-python", 
      "nbconvert_exporter": "python", 
      "name": "python", 
      "file_extension": ".py", 
      "version": "2.7.13", 
      "pygments_lexer": "ipython2", 
      "codemirror_mode": {
        "version": 2, 
        "name": "ipython"
      }
    }
  }
}